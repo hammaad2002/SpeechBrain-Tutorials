{
  "cells": [
    {
      "cell_type": "markdown",
      "metadata": {
        "id": "view-in-github",
        "colab_type": "text"
      },
      "source": [
        "<a href=\"https://colab.research.google.com/github/hammaad2002/SpeechBrain-Tutorials/blob/main/SpeechBrain_1st_Tutorial.ipynb\" target=\"_parent\"><img src=\"https://colab.research.google.com/assets/colab-badge.svg\" alt=\"Open In Colab\"/></a>"
      ]
    },
    {
      "cell_type": "markdown",
      "metadata": {
        "id": "IkHJ3ULntG1W"
      },
      "source": [
        "# **SpeechBrain 1st Tutorial go through**\n",
        "\n",
        "\n"
      ]
    },
    {
      "cell_type": "markdown",
      "metadata": {
        "id": "PS46tYartOEe"
      },
      "source": [
        "1st step: Installation\n",
        "Here we have two option either we can install it locally (which mean to clone the whole repository in our working system) or we can install it using pip directly like we install any other python package/library.\n",
        "\n",
        "But here is the twist first option is preferred if we want to implement as ASR from scratch and second option is chosen if we just only want to use SpeechBrain only and not design or implement anything."
      ]
    },
    {
      "cell_type": "markdown",
      "metadata": {
        "id": "Gs5kNNvCuG7c"
      },
      "source": [
        "Here in this notebook I have chosen the first option because I want to learn the maximum functionalities of SpeechBrain toolkit as possible. But I will mention both type of installation over here."
      ]
    },
    {
      "cell_type": "markdown",
      "metadata": {
        "id": "kfbeJWi6uXuK"
      },
      "source": [
        "**Installation using pip package manager**"
      ]
    },
    {
      "cell_type": "code",
      "execution_count": 11,
      "metadata": {
        "id": "F0VcbR3ss8jf"
      },
      "outputs": [],
      "source": [
        "%%capture\n",
        "!pip install speechbrain"
      ]
    },
    {
      "cell_type": "markdown",
      "metadata": {
        "id": "huCH3K1tu5lh"
      },
      "source": [
        "Here: \n",
        "\n",
        "1)\"%%capture\" is a magic command that is used to capture the output of a cell, helping to prevent clutter in the output of the notebook.\n",
        "\n",
        "2) \"!\" is used to run shell command in notebook."
      ]
    },
    {
      "cell_type": "markdown",
      "metadata": {
        "id": "vtEKBKjvwOm2"
      },
      "source": [
        "**MORE ON MAGIC COMMANDS**\n",
        "\n",
        "In notebook environment like Jupyter or Colab, a magic command is a special command that is preceded by a % character. Magic commands are used to perform a variety of tasks, such as running shell commands, setting environment variables, and running code in other languages.\n",
        "\n",
        "There are two types of magic commands: line magic commands, which are preceded by a single % character and operate on a single line, and cell magic commands, which are preceded by a double %% character and operate on multiple lines.\n",
        "\n",
        "For example, the %timeit line magic can be used to measure the execution time of a single line of code, while the %%timeit cell magic can be used to measure the execution time of multiple lines of code.\n"
      ]
    },
    {
      "cell_type": "code",
      "execution_count": 12,
      "metadata": {
        "colab": {
          "base_uri": "https://localhost:8080/"
        },
        "id": "BFmS3vW12QYp",
        "outputId": "de54f4b0-e6f3-4b96-da56-ca8bb1ec83ee"
      },
      "outputs": [
        {
          "output_type": "stream",
          "name": "stdout",
          "text": [
            "22.3 ns ± 8.26 ns per loop (mean ± std. dev. of 7 runs, 100000000 loops each)\n"
          ]
        }
      ],
      "source": [
        "%timeit 2+2 #working only on this single line of code"
      ]
    },
    {
      "cell_type": "markdown",
      "metadata": {
        "id": "Jd8rWNVu20NS"
      },
      "source": [
        "It means that the block of code was run a total of 10,000,000 times, and the execution time was measured 7 times. The mean execution time (average) was 14.7 nanoseconds, and the standard deviation of the execution times was 0.922 nanoseconds."
      ]
    },
    {
      "cell_type": "code",
      "execution_count": 13,
      "metadata": {
        "colab": {
          "base_uri": "https://localhost:8080/"
        },
        "id": "A5jifWVMwRLV",
        "outputId": "f78e83ee-c109-461a-8d2e-9c3a503d5ffd"
      },
      "outputs": [
        {
          "output_type": "stream",
          "name": "stdout",
          "text": [
            "123 ns ± 45.4 ns per loop (mean ± std. dev. of 7 runs, 10000000 loops each)\n"
          ]
        }
      ],
      "source": [
        "%%timeit \n",
        "x = 2 + 2  #works on this entire cell\n",
        "y = x * x\n",
        "z = y / x"
      ]
    },
    {
      "cell_type": "markdown",
      "metadata": {
        "id": "_LjiNKWu258n"
      },
      "source": [
        "It means that the block of code was run a total of 10,000,000 times, and the execution time was measured 7 times. The mean execution time (average) was 98.7 nanoseconds, and the standard deviation of the execution times was 31.5\n",
        " nanoseconds."
      ]
    },
    {
      "cell_type": "markdown",
      "metadata": {
        "id": "2lcOvsKl3ctZ"
      },
      "source": [
        "**Installation by cloning the github repository (Local Installation)**"
      ]
    },
    {
      "cell_type": "code",
      "execution_count": 14,
      "metadata": {
        "id": "tuiPbVU03azk"
      },
      "outputs": [],
      "source": [
        "%%capture\n",
        "# Local installation\n",
        "!git clone https://github.com/speechbrain/speechbrain/ #cloning the repostory\n",
        "\n",
        "%cd /content/speechbrain/ #%cd is also a magic command that changes the \n",
        "                          #notebook's working directory and if we used \"!cd\" \n",
        "                          #then it would only change the working directly of \n",
        "                          #shell only in this enviroment's directory.\n",
        "\n",
        "!pip install -r requirements.txt  #The -r flag stands for \"requirements\" and \n",
        "                                  #specifies a file containing a list of package \n",
        "                                  #dependencies.It is typically used in \n",
        "                                  #conjunction with the pip install command to \n",
        "                                  #install all of the required packages for a \n",
        "                                  #project.\n",
        "\n",
        "!pip install -r lint-requirements.txt\n",
        "\n",
        "!pip install -e .                 #The -e flag stands for \"editable\" and \n",
        "                                  #specifies that the package should be \n",
        "                                  #installed in editable mode. In editable mode, \n",
        "                                  #the package is installed as a link to the \n",
        "                                  #local source code, rather than as a copy of \n",
        "                                  #the source code. This means that any changes \n",
        "                                  #made to the source code will be reflected in \n",
        "                                  #the installed package."
      ]
    },
    {
      "cell_type": "markdown",
      "metadata": {
        "id": "vJKhOPSb7csX"
      },
      "source": [
        "Importing speechbrain toolkit"
      ]
    },
    {
      "cell_type": "code",
      "source": [
        "!pip freeze"
      ],
      "metadata": {
        "colab": {
          "base_uri": "https://localhost:8080/"
        },
        "id": "lvr0kqfHym5r",
        "outputId": "ad7cda9a-732f-4c85-bd42-11e7288ad85b"
      },
      "execution_count": 5,
      "outputs": [
        {
          "output_type": "stream",
          "name": "stdout",
          "text": [
            "absl-py==1.3.0\n",
            "aeppl==0.0.33\n",
            "aesara==2.7.9\n",
            "aiohttp==3.8.3\n",
            "aiosignal==1.3.1\n",
            "alabaster==0.7.12\n",
            "albumentations==1.2.1\n",
            "altair==4.2.0\n",
            "appdirs==1.4.4\n",
            "arviz==0.12.1\n",
            "astor==0.8.1\n",
            "astropy==4.3.1\n",
            "astunparse==1.6.3\n",
            "async-timeout==4.0.2\n",
            "atari-py==0.2.9\n",
            "atomicwrites==1.4.1\n",
            "attrs==22.1.0\n",
            "audioread==3.0.0\n",
            "autograd==1.5\n",
            "Babel==2.11.0\n",
            "backcall==0.2.0\n",
            "beautifulsoup4==4.6.3\n",
            "black==19.10b0\n",
            "bleach==5.0.1\n",
            "blis==0.7.9\n",
            "bokeh==2.3.3\n",
            "branca==0.6.0\n",
            "bs4==0.0.1\n",
            "CacheControl==0.12.11\n",
            "cachetools==5.2.0\n",
            "catalogue==2.0.8\n",
            "certifi==2022.12.7\n",
            "cffi==1.15.1\n",
            "cfgv==3.3.1\n",
            "cftime==1.6.2\n",
            "chardet==3.0.4\n",
            "charset-normalizer==2.1.1\n",
            "click==8.0.4\n",
            "clikit==0.6.2\n",
            "cloudpickle==1.5.0\n",
            "cmake==3.22.6\n",
            "cmdstanpy==1.0.8\n",
            "colorcet==3.0.1\n",
            "colorlover==0.3.0\n",
            "community==1.0.0b1\n",
            "confection==0.0.3\n",
            "cons==0.4.5\n",
            "contextlib2==0.5.5\n",
            "convertdate==2.4.0\n",
            "crashtest==0.3.1\n",
            "crcmod==1.7\n",
            "cufflinks==0.17.3\n",
            "cvxopt==1.3.0\n",
            "cvxpy==1.2.2\n",
            "cycler==0.11.0\n",
            "cymem==2.0.7\n",
            "Cython==0.29.32\n",
            "daft==0.0.4\n",
            "dask==2022.2.1\n",
            "datascience==0.17.5\n",
            "db-dtypes==1.0.5\n",
            "debugpy==1.0.0\n",
            "decorator==4.4.2\n",
            "defusedxml==0.7.1\n",
            "descartes==1.1.0\n",
            "dill==0.3.6\n",
            "distlib==0.3.6\n",
            "distributed==2022.2.1\n",
            "dlib==19.24.0\n",
            "dm-tree==0.1.7\n",
            "dnspython==2.2.1\n",
            "docutils==0.17.1\n",
            "dopamine-rl==1.0.5\n",
            "earthengine-api==0.1.335\n",
            "easydict==1.10\n",
            "ecos==2.0.10\n",
            "editdistance==0.5.3\n",
            "en-core-web-sm @ https://github.com/explosion/spacy-models/releases/download/en_core_web_sm-3.4.1/en_core_web_sm-3.4.1-py3-none-any.whl\n",
            "entrypoints==0.3\n",
            "ephem==4.1.3\n",
            "et-xmlfile==1.1.0\n",
            "etils==0.9.0\n",
            "etuples==0.3.8\n",
            "fa2==0.3.5\n",
            "fastai==2.7.10\n",
            "fastcore==1.5.27\n",
            "fastdownload==0.0.7\n",
            "fastdtw==0.3.4\n",
            "fastjsonschema==2.16.2\n",
            "fastprogress==1.0.3\n",
            "fastrlock==0.8.1\n",
            "feather-format==0.4.1\n",
            "filelock==3.8.2\n",
            "firebase-admin==5.3.0\n",
            "fix-yahoo-finance==0.0.22\n",
            "flake8==3.7.9\n",
            "Flask==1.1.4\n",
            "flatbuffers==1.12\n",
            "folium==0.12.1.post1\n",
            "frozenlist==1.3.3\n",
            "fsspec==2022.11.0\n",
            "future==0.16.0\n",
            "gast==0.4.0\n",
            "GDAL==2.2.2\n",
            "gdown==4.4.0\n",
            "gensim==3.6.0\n",
            "geographiclib==1.52\n",
            "geopy==1.17.0\n",
            "gin-config==0.5.0\n",
            "glob2==0.7\n",
            "google==2.0.3\n",
            "google-api-core==2.8.2\n",
            "google-api-python-client==1.12.11\n",
            "google-auth==2.15.0\n",
            "google-auth-httplib2==0.0.4\n",
            "google-auth-oauthlib==0.4.6\n",
            "google-cloud-bigquery==3.3.6\n",
            "google-cloud-bigquery-storage==2.16.2\n",
            "google-cloud-core==2.3.2\n",
            "google-cloud-datastore==2.9.0\n",
            "google-cloud-firestore==2.7.2\n",
            "google-cloud-language==2.6.1\n",
            "google-cloud-storage==2.5.0\n",
            "google-cloud-translate==3.8.4\n",
            "google-colab @ file:///colabtools/dist/google-colab-1.0.0.tar.gz\n",
            "google-crc32c==1.5.0\n",
            "google-pasta==0.2.0\n",
            "google-resumable-media==2.4.0\n",
            "googleapis-common-protos==1.57.0\n",
            "googledrivedownloader==0.4\n",
            "graphviz==0.10.1\n",
            "greenlet==2.0.1\n",
            "grpcio==1.51.1\n",
            "grpcio-status==1.48.2\n",
            "gspread==3.4.2\n",
            "gspread-dataframe==3.0.8\n",
            "gym==0.25.2\n",
            "gym-notices==0.0.8\n",
            "h5py==3.1.0\n",
            "HeapDict==1.0.1\n",
            "hijri-converter==2.2.4\n",
            "holidays==0.17.2\n",
            "holoviews==1.14.9\n",
            "html5lib==1.0.1\n",
            "httpimport==0.5.18\n",
            "httplib2==0.17.4\n",
            "httpstan==4.6.1\n",
            "huggingface-hub==0.11.1\n",
            "humanize==0.5.1\n",
            "hyperopt==0.1.2\n",
            "HyperPyYAML==1.1.0\n",
            "identify==2.5.11\n",
            "idna==2.10\n",
            "imageio==2.9.0\n",
            "imagesize==1.4.1\n",
            "imbalanced-learn==0.8.1\n",
            "imblearn==0.0\n",
            "imgaug==0.4.0\n",
            "importlib-metadata==5.1.0\n",
            "importlib-resources==5.10.1\n",
            "imutils==0.5.4\n",
            "inflect==2.1.0\n",
            "intel-openmp==2022.2.1\n",
            "intervaltree==2.1.0\n",
            "ipykernel==5.3.4\n",
            "ipython==7.9.0\n",
            "ipython-genutils==0.2.0\n",
            "ipython-sql==0.3.9\n",
            "ipywidgets==7.7.1\n",
            "itsdangerous==1.1.0\n",
            "jax==0.3.25\n",
            "jaxlib @ https://storage.googleapis.com/jax-releases/cuda11/jaxlib-0.3.25+cuda11.cudnn805-cp38-cp38-manylinux2014_x86_64.whl\n",
            "jieba==0.42.1\n",
            "Jinja2==2.11.3\n",
            "joblib==1.2.0\n",
            "jpeg4py==0.1.4\n",
            "jsonschema==4.3.3\n",
            "jupyter-client==6.1.12\n",
            "jupyter-console==6.1.0\n",
            "jupyter-core==5.1.0\n",
            "jupyterlab-widgets==3.0.4\n",
            "kaggle==1.5.12\n",
            "kapre==0.3.7\n",
            "keras==2.9.0\n",
            "Keras-Preprocessing==1.1.2\n",
            "keras-vis==0.4.1\n",
            "kiwisolver==1.4.4\n",
            "korean-lunar-calendar==0.3.1\n",
            "langcodes==3.3.0\n",
            "libclang==14.0.6\n",
            "librosa==0.8.1\n",
            "lightgbm==2.2.3\n",
            "llvmlite==0.39.1\n",
            "lmdb==0.99\n",
            "locket==1.0.0\n",
            "logical-unification==0.4.5\n",
            "LunarCalendar==0.0.9\n",
            "lxml==4.9.2\n",
            "Markdown==3.4.1\n",
            "MarkupSafe==2.0.1\n",
            "marshmallow==3.19.0\n",
            "matplotlib==3.2.2\n",
            "matplotlib-venn==0.11.7\n",
            "mccabe==0.6.1\n",
            "miniKanren==1.0.3\n",
            "missingno==0.5.1\n",
            "mistune==0.8.4\n",
            "mizani==0.7.3\n",
            "mkl==2019.0\n",
            "mlxtend==0.14.0\n",
            "more-itertools==9.0.0\n",
            "moviepy==0.2.3.5\n",
            "mpmath==1.2.1\n",
            "msgpack==1.0.4\n",
            "multidict==6.0.3\n",
            "multipledispatch==0.6.0\n",
            "multitasking==0.0.11\n",
            "murmurhash==1.0.9\n",
            "music21==5.5.0\n",
            "natsort==5.5.0\n",
            "nbconvert==5.6.1\n",
            "nbformat==5.7.0\n",
            "netCDF4==1.6.2\n",
            "networkx==2.8.8\n",
            "nibabel==3.0.2\n",
            "nltk==3.7\n",
            "nodeenv==1.7.0\n",
            "notebook==5.7.16\n",
            "numba==0.56.4\n",
            "numexpr==2.8.4\n",
            "numpy==1.21.6\n",
            "oauth2client==4.1.3\n",
            "oauthlib==3.2.2\n",
            "okgrade==0.4.3\n",
            "opencv-contrib-python==4.6.0.66\n",
            "opencv-python==4.6.0.66\n",
            "opencv-python-headless==4.6.0.66\n",
            "openpyxl==3.0.10\n",
            "opt-einsum==3.3.0\n",
            "osqp==0.6.2.post0\n",
            "packaging==21.3\n",
            "palettable==3.3.0\n",
            "pandas==1.3.5\n",
            "pandas-datareader==0.9.0\n",
            "pandas-gbq==0.17.9\n",
            "pandas-profiling==1.4.1\n",
            "pandocfilters==1.5.0\n",
            "panel==0.12.1\n",
            "param==1.12.3\n",
            "parso==0.8.3\n",
            "partd==1.3.0\n",
            "pastel==0.2.1\n",
            "pathlib==1.0.1\n",
            "pathspec==0.10.3\n",
            "pathy==0.10.1\n",
            "patsy==0.5.3\n",
            "pep517==0.13.0\n",
            "pexpect==4.8.0\n",
            "pickleshare==0.7.5\n",
            "Pillow==7.1.2\n",
            "pip-tools==6.2.0\n",
            "platformdirs==2.6.0\n",
            "plotly==5.5.0\n",
            "plotnine==0.8.0\n",
            "pluggy==0.13.1\n",
            "pooch==1.6.0\n",
            "portpicker==1.3.9\n",
            "pre-commit==2.20.0\n",
            "prefetch-generator==1.0.3\n",
            "preshed==3.0.8\n",
            "prettytable==3.5.0\n",
            "progressbar2==3.38.0\n",
            "prometheus-client==0.15.0\n",
            "promise==2.3\n",
            "prompt-toolkit==2.0.10\n",
            "prophet==1.1.1\n",
            "proto-plus==1.22.1\n",
            "protobuf==3.19.6\n",
            "psutil==5.4.8\n",
            "psycopg2==2.9.5\n",
            "ptyprocess==0.7.0\n",
            "py==1.11.0\n",
            "pyarrow==9.0.0\n",
            "pyasn1==0.4.8\n",
            "pyasn1-modules==0.2.8\n",
            "pycocotools==2.0.6\n",
            "pycodestyle==2.5.0\n",
            "pycparser==2.21\n",
            "pyct==0.4.8\n",
            "pydantic==1.10.2\n",
            "pydata-google-auth==1.4.0\n",
            "pydot==1.3.0\n",
            "pydot-ng==2.0.0\n",
            "pydotplus==2.0.2\n",
            "PyDrive==1.3.1\n",
            "pyemd==0.5.1\n",
            "pyerfa==2.0.0.1\n",
            "pyflakes==2.1.1\n",
            "Pygments==2.6.1\n",
            "pygobject==3.26.1\n",
            "pylev==1.4.0\n",
            "pymc==4.1.4\n",
            "PyMeeus==0.5.12\n",
            "pymongo==4.3.3\n",
            "pymystem3==0.2.0\n",
            "PyOpenGL==3.1.6\n",
            "pyparsing==3.0.9\n",
            "pyrsistent==0.19.2\n",
            "pysimdjson==3.2.0\n",
            "pysndfile==1.3.8\n",
            "PySocks==1.7.1\n",
            "pystan==3.3.0\n",
            "pytest==5.4.1\n",
            "python-apt==0.0.0\n",
            "python-dateutil==2.8.2\n",
            "python-louvain==0.16\n",
            "python-slugify==7.0.0\n",
            "python-utils==3.4.5\n",
            "pytz==2022.6\n",
            "pyviz-comms==2.2.1\n",
            "PyWavelets==1.4.1\n",
            "PyYAML==6.0\n",
            "pyzmq==23.2.1\n",
            "qdldl==0.1.5.post2\n",
            "qudida==0.0.4\n",
            "regex==2022.6.2\n",
            "requests==2.23.0\n",
            "requests-oauthlib==1.3.1\n",
            "resampy==0.4.2\n",
            "rpy2==3.5.5\n",
            "rsa==4.9\n",
            "ruamel.yaml==0.17.21\n",
            "ruamel.yaml.clib==0.2.7\n",
            "scikit-image==0.18.3\n",
            "scikit-learn==1.0.2\n",
            "scipy==1.7.3\n",
            "screen-resolution-extra==0.0.0\n",
            "scs==3.2.2\n",
            "seaborn==0.11.2\n",
            "Send2Trash==1.8.0\n",
            "sentencepiece==0.1.97\n",
            "setuptools-git==1.2\n",
            "shapely==2.0.0\n",
            "six==1.15.0\n",
            "sklearn-pandas==1.8.0\n",
            "smart-open==6.3.0\n",
            "snowballstemmer==2.2.0\n",
            "sortedcontainers==2.4.0\n",
            "soundfile==0.11.0\n",
            "spacy==3.4.4\n",
            "spacy-legacy==3.0.10\n",
            "spacy-loggers==1.0.4\n",
            "Sphinx==1.8.6\n",
            "sphinxcontrib-serializinghtml==1.1.5\n",
            "sphinxcontrib-websupport==1.2.4\n",
            "SQLAlchemy==1.4.45\n",
            "sqlparse==0.4.3\n",
            "srsly==2.4.5\n",
            "statsmodels==0.12.2\n",
            "sympy==1.7.1\n",
            "tables==3.7.0\n",
            "tabulate==0.8.10\n",
            "tblib==1.7.0\n",
            "tenacity==8.1.0\n",
            "tensorboard==2.9.1\n",
            "tensorboard-data-server==0.6.1\n",
            "tensorboard-plugin-wit==1.8.1\n",
            "tensorflow==2.9.2\n",
            "tensorflow-datasets==4.6.0\n",
            "tensorflow-estimator==2.9.0\n",
            "tensorflow-gcs-config==2.9.1\n",
            "tensorflow-hub==0.12.0\n",
            "tensorflow-io-gcs-filesystem==0.28.0\n",
            "tensorflow-metadata==1.12.0\n",
            "tensorflow-probability==0.17.0\n",
            "termcolor==2.1.1\n",
            "terminado==0.13.3\n",
            "testpath==0.6.0\n",
            "text-unidecode==1.3\n",
            "textblob==0.15.3\n",
            "thinc==8.1.5\n",
            "threadpoolctl==3.1.0\n",
            "tifffile==2022.10.10\n",
            "toml==0.10.2\n",
            "tomli==2.0.1\n",
            "toolz==0.12.0\n",
            "torch @ https://download.pytorch.org/whl/cu116/torch-1.13.0%2Bcu116-cp38-cp38-linux_x86_64.whl\n",
            "torchaudio @ https://download.pytorch.org/whl/cu116/torchaudio-0.13.0%2Bcu116-cp38-cp38-linux_x86_64.whl\n",
            "torchsummary==1.5.1\n",
            "torchtext==0.14.0\n",
            "torchvision @ https://download.pytorch.org/whl/cu116/torchvision-0.14.0%2Bcu116-cp38-cp38-linux_x86_64.whl\n",
            "tornado==6.0.4\n",
            "tqdm==4.64.1\n",
            "traitlets==5.7.1\n",
            "tweepy==3.10.0\n",
            "typed-ast==1.5.4\n",
            "typeguard==2.7.1\n",
            "typer==0.7.0\n",
            "typing-extensions==4.4.0\n",
            "tzlocal==1.5.1\n",
            "uritemplate==3.0.1\n",
            "urllib3==1.24.3\n",
            "vega-datasets==0.9.0\n",
            "virtualenv==20.17.1\n",
            "wasabi==0.10.1\n",
            "wcwidth==0.2.5\n",
            "webargs==8.2.0\n",
            "webencodings==0.5.1\n",
            "Werkzeug==1.0.1\n",
            "widgetsnbextension==3.6.1\n",
            "wordcloud==1.8.2.2\n",
            "wrapt==1.14.1\n",
            "xarray==2022.12.0\n",
            "xarray-einstats==0.4.0\n",
            "xgboost==0.90\n",
            "xkit==0.0.0\n",
            "xlrd==1.2.0\n",
            "xlwt==1.3.0\n",
            "yamllint==1.23.0\n",
            "yarl==1.8.2\n",
            "yellowbrick==1.5\n",
            "zict==2.2.0\n",
            "zipp==3.11.0\n"
          ]
        }
      ]
    },
    {
      "cell_type": "code",
      "execution_count": 15,
      "metadata": {
        "id": "XV0DZi9f7b_a"
      },
      "outputs": [],
      "source": [
        "import speechbrain as sb"
      ]
    },
    {
      "cell_type": "markdown",
      "metadata": {
        "id": "fnnQOs1N7lVX"
      },
      "source": [
        "Typical syntax of running an experiment using SpeechBrain toolkit is as follows:\n",
        "\n",
        "\n",
        "```\n",
        "python train.py hparams.yaml\n",
        "```\n",
        "All hyperparameters of the model/file is declared separately in a .yaml extension file which makes it easy to tweak the hyperparameters of a model without having to traverse through a long code of model. And the model's file in which layers of the model are declared is stored in a .py file which is a python file."
      ]
    },
    {
      "cell_type": "markdown",
      "metadata": {
        "id": "gs2DxZLsEOd-"
      },
      "source": [
        "**Example of running a single model/experiment using SpeechBrain**"
      ]
    },
    {
      "cell_type": "code",
      "execution_count": 16,
      "metadata": {
        "colab": {
          "base_uri": "https://localhost:8080/"
        },
        "id": "iNrh-6vTDOY6",
        "outputId": "5f40bbae-898c-4180-cfb8-dad684092f66"
      },
      "outputs": [
        {
          "output_type": "stream",
          "name": "stdout",
          "text": [
            "/content/speechbrain/tests/integration/ASR_CTC\n",
            "100% 8/8 [00:06<00:00,  1.22it/s, train_loss=12.2]\n",
            "100% 2/2 [00:00<00:00,  3.05it/s]\n",
            "Epoch 0 complete\n",
            "Train loss: 12.20\n",
            "Stage.VALID loss: 4.76\n",
            "Stage.VALID PER: 90.91\n",
            "100% 8/8 [00:06<00:00,  1.26it/s, train_loss=7.09]\n",
            "100% 2/2 [00:00<00:00,  5.30it/s]\n",
            "Epoch 1 complete\n",
            "Train loss: 7.09\n",
            "Stage.VALID loss: 4.37\n",
            "Stage.VALID PER: 96.36\n",
            "100% 8/8 [00:04<00:00,  1.81it/s, train_loss=4.73]\n",
            "100% 2/2 [00:00<00:00,  3.66it/s]\n",
            "Epoch 2 complete\n",
            "Train loss: 4.73\n",
            "Stage.VALID loss: 4.24\n",
            "Stage.VALID PER: 90.91\n",
            "100% 8/8 [00:04<00:00,  1.62it/s, train_loss=3.66]\n",
            "100% 2/2 [00:00<00:00,  5.70it/s]\n",
            "Epoch 3 complete\n",
            "Train loss: 3.66\n",
            "Stage.VALID loss: 4.39\n",
            "Stage.VALID PER: 90.91\n",
            "100% 8/8 [00:04<00:00,  1.83it/s, train_loss=3.16]\n",
            "100% 2/2 [00:00<00:00,  4.98it/s]\n",
            "Epoch 4 complete\n",
            "Train loss: 3.16\n",
            "Stage.VALID loss: 4.72\n",
            "Stage.VALID PER: 90.91\n",
            "100% 8/8 [00:03<00:00,  2.00it/s, train_loss=2.83]\n",
            "100% 2/2 [00:00<00:00,  5.42it/s]\n",
            "Epoch 5 complete\n",
            "Train loss: 2.83\n",
            "Stage.VALID loss: 4.50\n",
            "Stage.VALID PER: 90.91\n",
            "100% 8/8 [00:04<00:00,  1.92it/s, train_loss=2.43]\n",
            "100% 2/2 [00:00<00:00,  5.94it/s]\n",
            "Epoch 6 complete\n",
            "Train loss: 2.43\n",
            "Stage.VALID loss: 4.36\n",
            "Stage.VALID PER: 90.91\n",
            "100% 8/8 [00:04<00:00,  2.00it/s, train_loss=2.09]\n",
            "100% 2/2 [00:00<00:00,  5.10it/s]\n",
            "Epoch 7 complete\n",
            "Train loss: 2.09\n",
            "Stage.VALID loss: 4.39\n",
            "Stage.VALID PER: 90.91\n",
            "100% 8/8 [00:03<00:00,  2.06it/s, train_loss=1.8]\n",
            "100% 2/2 [00:00<00:00,  5.36it/s]\n",
            "Epoch 8 complete\n",
            "Train loss: 1.80\n",
            "Stage.VALID loss: 4.11\n",
            "Stage.VALID PER: 89.09\n",
            "100% 8/8 [00:03<00:00,  2.01it/s, train_loss=1.46]\n",
            "100% 2/2 [00:00<00:00,  5.40it/s]\n",
            "Epoch 9 complete\n",
            "Train loss: 1.46\n",
            "Stage.VALID loss: 3.92\n",
            "Stage.VALID PER: 90.91\n",
            "100% 8/8 [00:03<00:00,  2.06it/s, train_loss=1.19]\n",
            "100% 2/2 [00:00<00:00,  5.50it/s]\n",
            "Epoch 10 complete\n",
            "Train loss: 1.19\n",
            "Stage.VALID loss: 4.08\n",
            "Stage.VALID PER: 90.91\n",
            "100% 8/8 [00:04<00:00,  1.86it/s, train_loss=0.931]\n",
            "100% 2/2 [00:00<00:00,  4.93it/s]\n",
            "Epoch 11 complete\n",
            "Train loss: 0.93\n",
            "Stage.VALID loss: 3.97\n",
            "Stage.VALID PER: 90.91\n",
            "100% 8/8 [00:04<00:00,  1.91it/s, train_loss=0.706]\n",
            "100% 2/2 [00:00<00:00,  5.44it/s]\n",
            "Epoch 12 complete\n",
            "Train loss: 0.71\n",
            "Stage.VALID loss: 4.52\n",
            "Stage.VALID PER: 87.27\n",
            "100% 8/8 [00:04<00:00,  1.92it/s, train_loss=0.558]\n",
            "100% 2/2 [00:00<00:00,  5.55it/s]\n",
            "Epoch 13 complete\n",
            "Train loss: 0.56\n",
            "Stage.VALID loss: 4.12\n",
            "Stage.VALID PER: 89.09\n",
            "100% 8/8 [00:04<00:00,  1.91it/s, train_loss=0.394]\n",
            "100% 2/2 [00:00<00:00,  5.19it/s]\n",
            "Epoch 14 complete\n",
            "Train loss: 0.39\n",
            "Stage.VALID loss: 4.29\n",
            "Stage.VALID PER: 85.45\n",
            "100% 2/2 [00:00<00:00,  5.91it/s]\n",
            "Stage.TEST loss: 4.29\n",
            "Stage.TEST PER: 85.45\n"
          ]
        }
      ],
      "source": [
        "%cd /content/speechbrain/tests/integration/ASR_CTC/\n",
        "!python example_asr_ctc_experiment.py hyperparams.yaml "
      ]
    },
    {
      "cell_type": "code",
      "source": [
        "!pip install pyyaml"
      ],
      "metadata": {
        "colab": {
          "base_uri": "https://localhost:8080/"
        },
        "id": "d1PRv-dX0gN2",
        "outputId": "a14771af-ac6b-46ec-bbb1-6f1df883830e"
      },
      "execution_count": 18,
      "outputs": [
        {
          "output_type": "stream",
          "name": "stdout",
          "text": [
            "Looking in indexes: https://pypi.org/simple, https://us-python.pkg.dev/colab-wheels/public/simple/\n",
            "Requirement already satisfied: pyyaml in /usr/local/lib/python3.8/dist-packages (6.0)\n"
          ]
        }
      ]
    },
    {
      "cell_type": "code",
      "source": [
        "# Open the .yaml file and read its contents\n",
        "with open(\"/content/speechbrain/tests/integration/ASR_CTC/hyperparams.yaml\", \"r\") as f:\n",
        "    contents = f.read()\n",
        "\n",
        "# Print the contents of the .yaml file\n",
        "print(contents)"
      ],
      "metadata": {
        "colab": {
          "base_uri": "https://localhost:8080/"
        },
        "id": "6Nk-g6YT0ixN",
        "outputId": "4e968ac1-c106-4ee1-c7f2-93af86f03170"
      },
      "execution_count": 25,
      "outputs": [
        {
          "output_type": "stream",
          "name": "stdout",
          "text": [
            "# Seed needs to be set at top of yaml, before objects with parameters are made\n",
            "# NOTE: Seed does not guarantee replicability with CTC\n",
            "seed: 1234\n",
            "__set_seed: !apply:torch.manual_seed [!ref <seed>]\n",
            "\n",
            "# Training params\n",
            "N_epochs: 15\n",
            "lr: 0.002\n",
            "dataloader_options:\n",
            "    batch_size: 1\n",
            "\n",
            "# Special tokens and labels\n",
            "blank_index: 0\n",
            "num_labels: 44\n",
            "\n",
            "\n",
            "# Model parameters\n",
            "activation: !name:torch.nn.LeakyReLU []\n",
            "dropout: 0.15\n",
            "cnn_blocks: 1\n",
            "cnn_channels: (16,)\n",
            "cnn_kernelsize: (3, 3)\n",
            "rnn_layers: 1\n",
            "rnn_neurons: 128\n",
            "rnn_bidirectional: True\n",
            "dnn_blocks: 1\n",
            "dnn_neurons: 128\n",
            "\n",
            "compute_features: !new:speechbrain.lobes.features.MFCC\n",
            "\n",
            "mean_var_norm: !new:speechbrain.processing.features.InputNormalization\n",
            "    norm_type: global\n",
            "\n",
            "model: !new:speechbrain.lobes.models.CRDNN.CRDNN\n",
            "    input_shape: [null, null, 660]\n",
            "    activation: !ref <activation>\n",
            "    dropout: !ref <dropout>\n",
            "    cnn_blocks: !ref <cnn_blocks>\n",
            "    cnn_channels: !ref <cnn_channels>\n",
            "    cnn_kernelsize: !ref <cnn_kernelsize>\n",
            "    time_pooling: True\n",
            "    rnn_layers: !ref <rnn_layers>\n",
            "    rnn_neurons: !ref <rnn_neurons>\n",
            "    rnn_bidirectional: !ref <rnn_bidirectional>\n",
            "    dnn_blocks: !ref <dnn_blocks>\n",
            "    dnn_neurons: !ref <dnn_neurons>\n",
            "\n",
            "lin: !new:speechbrain.nnet.linear.Linear\n",
            "    input_size: !ref <dnn_neurons>\n",
            "    n_neurons: !ref <num_labels>\n",
            "    bias: False\n",
            "\n",
            "softmax: !new:speechbrain.nnet.activations.Softmax\n",
            "    apply_log: True\n",
            "\n",
            "compute_cost: !name:speechbrain.nnet.losses.ctc_loss\n",
            "    blank_index: !ref <blank_index>\n",
            "\n",
            "modules:\n",
            "    compute_features: !ref <compute_features>\n",
            "    model: !ref <model>\n",
            "    lin: !ref <lin>\n",
            "    mean_var_norm: !ref <mean_var_norm>\n",
            "\n",
            "opt_class: !name:torch.optim.Adam\n",
            "    lr: !ref <lr>\n",
            "\n",
            "per_stats: !name:speechbrain.utils.metric_stats.ErrorRateStats\n",
            "\n"
          ]
        }
      ]
    },
    {
      "cell_type": "code",
      "source": [
        "# Open the .yaml file and read its contents\n",
        "with open(\"/content/speechbrain/tests/integration/ASR_CTC/example_asr_ctc_experiment.py\", \"r\") as f:\n",
        "    contents = f.read()\n",
        "\n",
        "# Print the contents of the .yaml file\n",
        "print(contents)"
      ],
      "metadata": {
        "colab": {
          "base_uri": "https://localhost:8080/"
        },
        "id": "aoJvRYe38jx2",
        "outputId": "f15ad004-abf0-4f44-bcd0-a9ae5d7e1a89"
      },
      "execution_count": 26,
      "outputs": [
        {
          "output_type": "stream",
          "name": "stdout",
          "text": [
            "#!/usr/bin/env/python3\n",
            "\"\"\"This minimal example trains a CTC-based speech recognizer on a tiny dataset.\n",
            "The encoder is based on a combination of convolutional, recurrent, and\n",
            "feed-forward networks (CRDNN) that predict phonemes.  A greedy search is used on\n",
            "top of the output probabilities.\n",
            "Given the tiny dataset, the expected behavior is to overfit the training dataset\n",
            "(with a validation performance that stays high).\n",
            "\"\"\"\n",
            "\n",
            "import pathlib\n",
            "import speechbrain as sb\n",
            "from hyperpyyaml import load_hyperpyyaml\n",
            "\n",
            "\n",
            "class CTCBrain(sb.Brain):\n",
            "    def compute_forward(self, batch, stage):\n",
            "        \"Given an input batch it computes the output probabilities.\"\n",
            "        batch = batch.to(self.device)\n",
            "        wavs, lens = batch.sig\n",
            "        feats = self.modules.compute_features(wavs)\n",
            "        feats = self.modules.mean_var_norm(feats, lens)\n",
            "        x = self.modules.model(feats)\n",
            "        x = self.modules.lin(x)\n",
            "        outputs = self.hparams.softmax(x)\n",
            "\n",
            "        return outputs, lens\n",
            "\n",
            "    def compute_objectives(self, predictions, batch, stage):\n",
            "        \"Given the network predictions and targets computed the CTC loss.\"\n",
            "        predictions, lens = predictions\n",
            "        phns, phn_lens = batch.phn_encoded\n",
            "        loss = self.hparams.compute_cost(predictions, phns, lens, phn_lens)\n",
            "\n",
            "        if stage != sb.Stage.TRAIN:\n",
            "            seq = sb.decoders.ctc_greedy_decode(\n",
            "                predictions, lens, blank_id=self.hparams.blank_index\n",
            "            )\n",
            "            self.per_metrics.append(batch.id, seq, phns, target_len=phn_lens)\n",
            "\n",
            "        return loss\n",
            "\n",
            "    def on_stage_start(self, stage, epoch=None):\n",
            "        \"Gets called when a stage (either training, validation, test) starts.\"\n",
            "        if stage != sb.Stage.TRAIN:\n",
            "            self.per_metrics = self.hparams.per_stats()\n",
            "\n",
            "    def on_stage_end(self, stage, stage_loss, epoch=None):\n",
            "        \"\"\"Gets called at the end of a stage.\"\"\"\n",
            "        if stage == sb.Stage.TRAIN:\n",
            "            self.train_loss = stage_loss\n",
            "\n",
            "        if stage == sb.Stage.VALID and epoch is not None:\n",
            "            print(\"Epoch %d complete\" % epoch)\n",
            "            print(\"Train loss: %.2f\" % self.train_loss)\n",
            "\n",
            "        if stage != sb.Stage.TRAIN:\n",
            "            print(stage, \"loss: %.2f\" % stage_loss)\n",
            "            print(stage, \"PER: %.2f\" % self.per_metrics.summarize(\"error_rate\"))\n",
            "\n",
            "\n",
            "def data_prep(data_folder, hparams):\n",
            "    \"Creates the datasets and their data processing pipelines.\"\n",
            "\n",
            "    # 1. Declarations:\n",
            "    train_data = sb.dataio.dataset.DynamicItemDataset.from_json(\n",
            "        json_path=data_folder / \"../annotation/ASR_train.json\",\n",
            "        replacements={\"data_root\": data_folder},\n",
            "    )\n",
            "    valid_data = sb.dataio.dataset.DynamicItemDataset.from_json(\n",
            "        json_path=data_folder / \"../annotation/ASR_dev.json\",\n",
            "        replacements={\"data_root\": data_folder},\n",
            "    )\n",
            "    datasets = [train_data, valid_data]\n",
            "    label_encoder = sb.dataio.encoder.CTCTextEncoder()\n",
            "\n",
            "    # 2. Define audio pipeline:\n",
            "    @sb.utils.data_pipeline.takes(\"wav\")\n",
            "    @sb.utils.data_pipeline.provides(\"sig\")\n",
            "    def audio_pipeline(wav):\n",
            "        sig = sb.dataio.dataio.read_audio(wav)\n",
            "        return sig\n",
            "\n",
            "    sb.dataio.dataset.add_dynamic_item(datasets, audio_pipeline)\n",
            "\n",
            "    # 3. Define text pipeline:\n",
            "    @sb.utils.data_pipeline.takes(\"phn\")\n",
            "    @sb.utils.data_pipeline.provides(\"phn_list\", \"phn_encoded\")\n",
            "    def text_pipeline(phn):\n",
            "        phn_list = phn.strip().split()\n",
            "        yield phn_list\n",
            "        phn_encoded = label_encoder.encode_sequence_torch(phn_list)\n",
            "        yield phn_encoded\n",
            "\n",
            "    sb.dataio.dataset.add_dynamic_item(datasets, text_pipeline)\n",
            "\n",
            "    # 3. Fit encoder:\n",
            "    # NOTE: In this minimal example, also update from valid data\n",
            "    label_encoder.insert_blank(index=hparams[\"blank_index\"])\n",
            "    label_encoder.update_from_didataset(train_data, output_key=\"phn_list\")\n",
            "    label_encoder.update_from_didataset(valid_data, output_key=\"phn_list\")\n",
            "\n",
            "    # 4. Set output:\n",
            "    sb.dataio.dataset.set_output_keys(datasets, [\"id\", \"sig\", \"phn_encoded\"])\n",
            "\n",
            "    return train_data, valid_data\n",
            "\n",
            "\n",
            "def main(device=\"cpu\"):\n",
            "    experiment_dir = pathlib.Path(__file__).resolve().parent\n",
            "    hparams_file = experiment_dir / \"hyperparams.yaml\"\n",
            "    data_folder = \"../../samples/ASR/\"\n",
            "    data_folder = (experiment_dir / data_folder).resolve()\n",
            "\n",
            "    # Load model hyper parameters:\n",
            "    with open(hparams_file) as fin:\n",
            "        hparams = load_hyperpyyaml(fin)\n",
            "\n",
            "    # Dataset creation\n",
            "    train_data, valid_data = data_prep(data_folder, hparams)\n",
            "\n",
            "    # Trainer initialization\n",
            "    ctc_brain = CTCBrain(\n",
            "        hparams[\"modules\"],\n",
            "        hparams[\"opt_class\"],\n",
            "        hparams,\n",
            "        run_opts={\"device\": device},\n",
            "    )\n",
            "\n",
            "    # Training/validation loop\n",
            "    ctc_brain.fit(\n",
            "        range(hparams[\"N_epochs\"]),\n",
            "        train_data,\n",
            "        valid_data,\n",
            "        train_loader_kwargs=hparams[\"dataloader_options\"],\n",
            "        valid_loader_kwargs=hparams[\"dataloader_options\"],\n",
            "    )\n",
            "    # Evaluation is run separately (now just evaluating on valid data)\n",
            "    ctc_brain.evaluate(valid_data)\n",
            "\n",
            "    # Check if model overfits for integration test\n",
            "    assert ctc_brain.train_loss < 1.0\n",
            "\n",
            "\n",
            "if __name__ == \"__main__\":\n",
            "    main()\n",
            "\n",
            "\n",
            "def test_error(device):\n",
            "    main(device)\n",
            "\n"
          ]
        }
      ]
    },
    {
      "cell_type": "markdown",
      "metadata": {
        "id": "LpLoYag7Efis"
      },
      "source": [
        "In this case,  we trained a CTC-based **speech recognizer** with a tiny dataset stored in the folder `samples`. As you can see, the training loss is very small, which indicates that the model is implemented correctly.\n",
        "The validation loss, instead, is high. This happens because, as expected, the dataset is too small to allow the network to generalize.\n",
        "\n",
        "All the results of the experiments are stored in the `output_folder` defined in the yaml file. Here, you can find, the checkpoints, the trained models, a file summarizing the performance, and a logger. For all the recipe currently\n",
        " supported, you can find our results here:\n",
        "\n",
        "https://drive.google.com/drive/folders/1ZVuROxR711Xib2MsJbcPla4PWqbK1Ddw?usp=sharing\n",
        "\n",
        "This way, you can compare your performance with the one achieved by us and you can have access to all the pre-trained models."
      ]
    },
    {
      "cell_type": "markdown",
      "metadata": {
        "id": "ZNtLoARxxiXL"
      },
      "source": [
        "**HYPERPARAMETER DECLARATION IN SPEECHBRAIN**"
      ]
    },
    {
      "cell_type": "markdown",
      "metadata": {
        "id": "RGL9_utUxubc"
      },
      "source": [
        "**Question**: What are hyperparameters in machine learning?\n",
        "\n",
        "**Answer**: Hyperparameters are the parameters that are set before training a model, as opposed to the parameters that are learned during training. They are used to control the behavior of the model and to influence the learning process.\n",
        "Some examples of hyperparameters are:\n",
        "\n",
        "1.   Learning rate\n",
        "2.   Weight decay\n",
        "3.   Batch size\n",
        "4.   Number of epochs\n",
        "5.   Activation function\n",
        "6.   Optimizer\n",
        "7.   Initialization method\n",
        "8.   Dropout rate\n",
        "9.   Number of layers\n",
        "10.  Number of units or neurons in each layer"
      ]
    },
    {
      "cell_type": "markdown",
      "metadata": {
        "id": "ksgYQ1yR0o0e"
      },
      "source": [
        "These hyperparameters are normally declared in the same file in which the model's layers are declared also. But in SpeechBrain toolkit these hyperparameters are stored in a separate .yaml file format which makes it easy to tweak hyperparameters in order to get the best result from our model without having to go traverse through the code as mentioned above.\n",
        "\n",
        "An example of hyperparameters stored in .yaml is given below:\n",
        "\n",
        "\n",
        "```yaml\n",
        "dropout: 0.8\n",
        "compute_features: !new:speechbrain.lobes.features.MFCC\n",
        "    n_mels: 40\n",
        "    left_frames: 5\n",
        "    right_frames: 5\n",
        "\n",
        "model: !new:speechbrain.lobes.models.CRDNN.CRDNN\n",
        "   input_shape: [null, null, 440]\n",
        "   activation: !name:torch.nn.LeakyReLU []\n",
        "   dropout:  !ref <dropout>\n",
        "   cnn_blocks: 2\n",
        "   cnn_channels: (32, 16)\n",
        "   cnn_kernelsize: (3, 3)\n",
        "   time_pooling: True\n",
        "   rnn_layers: 2\n",
        "   rnn_neurons: 512\n",
        "   rnn_bidirectional: True\n",
        "   dnn_blocks: 2\n",
        "   dnn_neurons: 1024\n",
        "```\n",
        "\n"
      ]
    },
    {
      "cell_type": "markdown",
      "metadata": {
        "id": "m10cPmPt5F9r"
      },
      "source": [
        "As you can see, this is not just a plain list of hyperparameters. For each parameter, we specify the class (or function) that is going to use it. This makes the code **more transparent** and **easier to debug**.\n",
        "\n",
        "The YAML file contains all the information to initialize the classes when loading them. In SpeechBrain we load it with a special function called `load_hyperpyyaml`, which initializes for us all the declared classes. This makes the code extremely **readable** and **compact**.\n",
        "\n",
        "Will cover a more detailed tutorial about YAML format in the coming tutorial but for now this introduction is enough.\n",
        "\n",
        "Note that all the hyperparameters can be overridden from the command line. For instance, to change the dropout factor: \n",
        "\n",
        "`python experiment.py params.yaml --dropout=0.5 `"
      ]
    },
    {
      "cell_type": "markdown",
      "metadata": {
        "id": "rZZZznJ47IDh"
      },
      "source": [
        "**PYTHON FILE DECLARATION IN SPEECHBRAIN**"
      ]
    },
    {
      "cell_type": "markdown",
      "metadata": {
        "id": "OxeQQ_mv7Pre"
      },
      "source": [
        "The experiment file (e.g., `example_asr_ctc_experiment.py` in the example) trains a model by **combining** the functions or **classes declared in the yaml file**. This script defines the data processing pipeline and defines all the computations from the input signal to the final cost function. Everything is designed to be **easy to customize**."
      ]
    },
    {
      "cell_type": "markdown",
      "metadata": {
        "id": "1OvysrXY70iV"
      },
      "source": [
        "**1ST STEP: DATA SPECIFICATION**"
      ]
    },
    {
      "cell_type": "markdown",
      "metadata": {
        "id": "u4ZFcYsD7sIN"
      },
      "source": [
        "The user should prepare a data specification file (in **CSV** or JSON) format that reports all the data and the labels to process.\n",
        "\n",
        "For instance, in the minimal example ran before, the data specification file is this:\n",
        "\n",
        "\n",
        "```csv\n",
        "ID, duration, wav, wav_format, wav_opts, spk_id, spk_id_format, spk_id_opts, ali, ali_format, ali_opts, phn, phn_format, phn_opts,char,char_format,char_opts\n",
        "spk1_snt5,2.6,$data_folder/spk1_snt5.wav, wav, ,spk1,string, ,$data_folder/spk1_snt5.pkl,pkl, ,s ah n vcl d ey ih z dh ax vcl b eh s cl t cl p aa r dx ax v dh ax w iy cl,string, ,s u n d a y i s t h e b e s t p a r t o f t h e w e e k,string,\n",
        "spk2_snt5,1.98,$data_folder/spk2_snt5.wav, wav, ,spk2,string, ,$data_folder/spk2_snt5.pkl,pkl, ,vcl jh ah m cl p dh ax f eh n s ae n hh er iy ah cl p dh ax vcl b ae ng cl,string, ,k e n p a I r s l a c k f u l l f l a v o r,string,\n",
        "```"
      ]
    },
    {
      "cell_type": "code",
      "source": [
        "# Open the .yaml file and read its contents\n",
        "with open(\"/content/speechbrain/tests/samples/annotation/ASR_train.csv\", \"r\") as f:\n",
        "    contents = f.read()\n",
        "\n",
        "# Print the contents of the .yaml file\n",
        "print(contents)"
      ],
      "metadata": {
        "colab": {
          "base_uri": "https://localhost:8080/"
        },
        "id": "kBUx7EJiK41g",
        "outputId": "3de0aebc-34d9-4e12-947b-ff417cbff1d0"
      },
      "execution_count": 27,
      "outputs": [
        {
          "output_type": "stream",
          "name": "stdout",
          "text": [
            "ID, duration,start,stop,wav,clean_wav,noisy_wav,s1_wav,s2_wav,mix_wav,target,spk_id,ali,phn,char,wrd,text,transcript,semantics\n",
            "spk1_snt1,2.87,0,16000,tests/samples/ASR/spk1_snt1.wav,tests/samples/ASR/spk1_snt1.wav,tests/samples/ASR/spk1_snt1.wav,tests/samples/ASR/spk1_snt1.wav,tests/samples/ASR/spk1_snt1.wav,tests/samples/ASR/spk1_snt1.wav,tests/samples/ASR/spk1_snt1.wav,spk1,tests/samples/ASR/spk1_snt1.pkl,dh ax cl ch ay l vcl d ao l m ow s cl t hh er cl t sil dh ax s m ao l vcl d ao vcl,t h e c h i l d a l m o s t h u r t t h e s m a l l d o g ,the child almost hurt the small dog,the child almost hurt the small dog,the child almost hurt the small dog,{[this is a fake semantics]}\n",
            "spk1_snt2,3.15,0,16000,tests/samples/ASR/spk1_snt2.wav,tests/samples/ASR/spk1_snt2.wav,tests/samples/ASR/spk1_snt2.wav,tests/samples/ASR/spk1_snt2.wav,tests/samples/ASR/spk1_snt2.wav,tests/samples/ASR/spk1_snt2.wav,tests/samples/ASR/spk1_snt2.wav,spk1,tests/samples/ASR/spk1_snt2.pkl,vcl d r aa cl p dh ax cl t uw sil w eh n y uw ae vcl d dh ax f ih vcl g y er,d r o p t h e t u e w h e n y o u a d d t h e f i g u r e s,drop the tue when you add the figures,drop the tue when you add the figures,drop the tue when you add the figures,{[this is a fake semantics]}\n",
            "\n"
          ]
        }
      ]
    },
    {
      "cell_type": "markdown",
      "metadata": {
        "id": "2djhOaUJ8EIt"
      },
      "source": [
        "You can open this file with a CSV reader for better rendering. For each row, you have an example with the corresponding paths to wav signal and labels.\n",
        "\n",
        "As an alternative, users can specify the data in a **JSON** format:\n",
        "\n",
        "\n",
        "```json\n",
        "{\n",
        "    \"spk1_snt5\": {\n",
        "        \"wav\": \"{data_root}/spk1_snt5.wav\",\n",
        "        \"length\": 2.6,\n",
        "        \"spk_id\": \"spk1\",\n",
        "        \"ali\": \"{data_root}/spk1_snt5.pkl\",\n",
        "        \"phn\": \"s ah n vcl d ey ih z dh ax vcl b eh s cl t cl p aa r dx ax v dh ax w iy cl\",\n",
        "        \"char\": \"s u n d a y i s t h e b e s t p a r t o f t h e w e e k\"\n",
        "    },\n",
        "    \"spk2_snt5\": {\n",
        "        \"wav\": \"{data_root}/spk2_snt5.wav\",\n",
        "        \"length\": 1.98,\n",
        "        \"spk_id\": \"spk2\",\n",
        "        \"ali\": \"{data_root}/spk2_snt5.pkl\",\n",
        "        \"phn\": \"vcl jh ah m cl p dh ax f eh n s ae n hh er iy ah cl p dh ax vcl b ae ng cl\",\n",
        "        \"char\": \"k e n p a i r s l a c k f u l l f l a v o r\"\n",
        "    }\n",
        "}\n",
        "```\n",
        "\n",
        "JSON is less compact than CSV but more flexible. For many applications, using the CSV file is enough. For more complex tasks (e.g, speaker diarization, speaker diarization + recognition), however, people might take advantage of the hierarchical structure offered by JSON. \n",
        "\n",
        "All datasets are formatted differently. In general, the users have to write a **data preparation** script that parses the target dataset and creates the data specification files. For all the proposed recipes, however, we also release the corresponding data preparation library.\n"
      ]
    },
    {
      "cell_type": "code",
      "source": [
        "# Open the .yaml file and read its contents\n",
        "with open(\"/content/speechbrain/tests/samples/annotation/ASR_train.json\", \"r\") as f:\n",
        "    contents = f.read()\n",
        "\n",
        "# Print the contents of the .yaml file\n",
        "print(contents)"
      ],
      "metadata": {
        "id": "Niw1lUCDLMbn"
      },
      "execution_count": null,
      "outputs": []
    },
    {
      "cell_type": "code",
      "source": [
        "# Open the .yaml file and read its contents\n",
        "with open(\"/content/speechbrain/tests/samples/annotation/ASR_dev.json\", \"r\") as f:\n",
        "    contents = f.read()\n",
        "\n",
        "# Print the contents of the .yaml file\n",
        "print(contents)"
      ],
      "metadata": {
        "colab": {
          "base_uri": "https://localhost:8080/"
        },
        "id": "gi5bmx0ALZqe",
        "outputId": "15f69aff-c039-4f14-f4c9-4e53da1cbb0d"
      },
      "execution_count": 29,
      "outputs": [
        {
          "output_type": "stream",
          "name": "stdout",
          "text": [
            "{\n",
            "    \"spk1_snt5\": {\n",
            "        \"wav\": \"{data_root}/spk1_snt5.wav\",\n",
            "        \"duration\": \"2.6\",\n",
            "        \"spk_id\": \"spk1\",\n",
            "        \"ali\": \"{data_root}/spk1_snt5.pkl\",\n",
            "        \"phn\": \"s ah n vcl d ey ih z dh ax vcl b eh s cl t cl p aa r dx ax v dh ax w iy cl\",\n",
            "        \"char\": \"s u n d a y i s t h e b e s t p a r t o f t h e w e e k\"\n",
            "    },\n",
            "    \"spk2_snt5\": {\n",
            "        \"wav\": \"{data_root}/spk2_snt5.wav\",\n",
            "        \"duration\": \"1.98\",\n",
            "        \"spk_id\": \"spk2\",\n",
            "        \"ali\": \"{data_root}/spk2_snt5.pkl\",\n",
            "        \"phn\": \"vcl jh ah m cl p dh ax f eh n s ae n hh er iy ah cl p dh ax vcl b ae ng cl\",\n",
            "        \"char\": \"k e n p a i r s l a c k f u l l f l a v o r\"\n",
            "    }\n",
            "}\n",
            "\n"
          ]
        }
      ]
    },
    {
      "cell_type": "markdown",
      "metadata": {
        "id": "btPZgMf99VMp"
      },
      "source": [
        "**2ND STEP: Data processing pipeline**"
      ]
    },
    {
      "cell_type": "markdown",
      "metadata": {
        "id": "ngXusfBN9Ptq"
      },
      "source": [
        "Thanks to our Dynamic datasets, the data reading pipeline is fully customizable in the experiment file directly. For instance, in the minimal example, you can define the following intuitive function to read the audio file\n",
        "\n",
        "\n",
        "```python\n",
        "    # 2. Define audio pipeline:\n",
        "    @sb.utils.data_pipeline.takes(\"wav\")        #decorator 1\n",
        "    @sb.utils.data_pipeline.provides(\"sig\")     #decorator 2  \n",
        "    def audio_pipeline(wav):\n",
        "        sig = sb.dataio.dataio.read_audio(wav)\n",
        "        return sig\n",
        "```\n",
        "\n",
        "The function takes in input the wav path and returns a signal read with the specified reader. In the variable `batch.sig` (see `example_asr_ctc_experiment.py`) you will have your batches of signals ready to be used. Note that here you can add any kind of processing (e.g, adding noise, speech change, dynamic mixing, etc) just by coding with the desired pipeline."
      ]
    },
    {
      "cell_type": "markdown",
      "metadata": {
        "id": "aNI5lN58A2ev"
      },
      "source": [
        "**Question:**What are decorators in python?\n",
        "\n",
        "**Answer:** In Python, a decorator is a design pattern that allows us to extend the functionality of a function or method without modifying the original code. Decorators are implemented using special syntax and are often used to add additional functionality to an existing function or method, such as logging, debugging, or validation.\n",
        "\n",
        "Decorators are implemented using a special syntax in Python, which involves placing the decorator function above the function or method that it is decorating. The decorator function takes the original function or method as an argument, and returns a modified version of the function or method."
      ]
    },
    {
      "cell_type": "code",
      "execution_count": null,
      "metadata": {
        "colab": {
          "base_uri": "https://localhost:8080/"
        },
        "id": "g2sGcjByAfD1",
        "outputId": "9781cca2-88ad-4d95-b6fc-256e15d888d4"
      },
      "outputs": [
        {
          "name": "stdout",
          "output_type": "stream",
          "text": [
            "Calling add with arguments (3, 4) and keyword arguments {}\n",
            "Result: 7\n",
            "7\n"
          ]
        }
      ],
      "source": [
        "#small code example of decorator declaration\n",
        "def log(func):\n",
        "    def wrapper(*args, **kwargs):\n",
        "        print(f\"Calling {func.__name__} with arguments {args} and keyword arguments {kwargs}\")\n",
        "        result = func(*args, **kwargs)\n",
        "        print(f\"Result: {result}\")\n",
        "        return result\n",
        "    return wrapper\n",
        "@log\n",
        "def add(x, y):\n",
        "    return x + y\n",
        "print(add(3,4))"
      ]
    },
    {
      "cell_type": "markdown",
      "metadata": {
        "id": "oHRsA3wlHTGW"
      },
      "source": [
        "We can use multiple decorators to a single function. However, the decorators will be applied in the order that we've called them. \n",
        "\n",
        "Decorators can have multiple functions inside them. In the code snippet of SpeechBrain the @sb.utils.data_pipeline.takes and @sb.utils.data_pipeline.provides decorators are calling functions that are part of the data_pipeline module, which is a submodule of the utils module.\n",
        "\n",
        "More detailed tutorial on decorators can be found here : https://www.datacamp.com/tutorial/decorators-python"
      ]
    },
    {
      "cell_type": "markdown",
      "metadata": {
        "id": "t20ESNynPTCu"
      },
      "source": [
        "A similar function should be written for all the entries that our script is supposed to process. The minimal example, for instance, reads a sequence of phoneme labels as well:\n",
        "\n",
        "\n",
        "```python\n",
        "    @sb.utils.data_pipeline.takes(\"phn\")\n",
        "    @sb.utils.data_pipeline.provides(\"phn_list\", \"phn_encoded\")\n",
        "    def text_pipeline(phn):\n",
        "        phn_list = phn.strip().split()\n",
        "        yield phn_list\n",
        "        phn_encoded = label_encoder.encode_sequence_torch(phn_list)\n",
        "        yield phn_encoded\n",
        "\n",
        "```\n",
        "Here, we read the phoneme list, separate each entry by space, and convert the list of phonemes to their corresponding indexes (using the label_encoder which we will see in more detail in the coming tutorials).\n",
        "\n",
        "As you can see, we directly expose in the main script the data reading pipeline because this adds a lot of transparency and flexibility. "
      ]
    },
    {
      "cell_type": "markdown",
      "metadata": {
        "id": "O3mOZYZcQYR6"
      },
      "source": [
        "**3RD STEP: CUSTOM FORWARD AND COST COMPUTATIONS METHODS**"
      ]
    },
    {
      "cell_type": "markdown",
      "metadata": {
        "id": "h9iv_7vIQWVb"
      },
      "source": [
        "The other thing that users often want to customize is the sequence of computations that go from the input to the final cost function. In the experiment file, users are required to specify them in the `forward` and `compute_objectives` methods.\n",
        "In the minimal example, the forward method is defined as follows:\n",
        "```python\n",
        "    def compute_forward(self, batch, stage):\n",
        "        \"Given an input batch it computes the output probabilities.\"\n",
        "        wavs, lens = batch.sig\n",
        "        feats = self.hparams.compute_features(wavs)\n",
        "        feats = self.modules.mean_var_norm(feats, lens)\n",
        "        x = self.modules.model(feats)\n",
        "        x = self.modules.lin(x)\n",
        "        outputs = self.hparams.softmax(x)\n",
        "```\n",
        "\n",
        "The input is the variable batch that contains all the entries specified in the data loader (e.g, we have `batch.sig` and `batch.phn_encoded`). As you can see, we compute the features, we perform a mean and variance normalization, and we call the model. Finally, a linear transformation + softmax is applied. \n",
        "\n",
        "The compute objective function looks like this:\n",
        "\n",
        "```python\n",
        "    def compute_objectives(self, predictions, batch, stage):\n",
        "        \"Given the network predictions and targets computed the CTC loss.\"\n",
        "        predictions, lens = predictions\n",
        "        phns, phn_lens = batch.phn_encoded\n",
        "        loss = self.hparams.compute_cost(predictions, phns, lens, phn_lens)\n",
        "\n",
        "        if stage != sb.Stage.TRAIN:\n",
        "            seq = sb.decoders.ctc_greedy_decode(\n",
        "                predictions, lens, blank_id=self.hparams.blank_index\n",
        "            )\n",
        "            self.per_metrics.append(batch.id, seq, phns, target_len=phn_lens)\n",
        "\n",
        "        return loss\n",
        "```\n",
        "\n",
        "We take the predictions done in the forward step and compute a cost function using the encoded labels in batch.phn_encoded. During validation/test, we also perform actual decoding on the speech sequence (in this case using a greedy decoder and, in a more general case, using beam search) to monitor the performance. "
      ]
    },
    {
      "cell_type": "markdown",
      "metadata": {
        "id": "ceMkzHrRRYuK"
      },
      "source": [
        "**4th STEP: Brain Class**"
      ]
    },
    {
      "cell_type": "markdown",
      "metadata": {
        "id": "b-QddAyhRbuQ"
      },
      "source": [
        "To make training easier, we implemented a simple trainer called **Brain class**. The Brain class defines a set of customizable routines that implement all the steps needed in standard **training and validation loops**. After defining the data pipeline, the forward, the compute objective, and other custom methods, you can call the fit method of the brain class for training (and the eval one for the test):\n",
        "\n",
        "```python\n",
        "    # Trainer initialization\n",
        "    ctc_brain = CTCBrain(hparams[\"modules\"], hparams[\"opt_class\"], hparams)\n",
        "\n",
        "    # Training/validation loop\n",
        "    ctc_brain.fit(\n",
        "        range(hparams[\"N_epochs\"]),\n",
        "        train_data,\n",
        "        valid_data,\n",
        "        train_loader_kwargs=hparams[\"dataloader_options\"],\n",
        "        valid_loader_kwargs=hparams[\"dataloader_options\"],\n",
        "    )\n",
        "    # Evaluation is run separately (now just evaluating on valid data)\n",
        "    ctc_brain.evaluate(valid_data)\n",
        "```\n",
        "Will cover this subtopic in detail in future tutorials."
      ]
    },
    {
      "cell_type": "markdown",
      "metadata": {
        "id": "Ss_QAFksRxVg"
      },
      "source": [
        "**Using pretrained models**"
      ]
    },
    {
      "cell_type": "markdown",
      "metadata": {
        "id": "GEGGYO41R8CA"
      },
      "source": [
        "Sometimes you might only want to use a pre-trained model rather than training it from scratch. For instance, you might want to transcribe an audio file, compute speaker embeddings, apply a voice activity detector, and doing many other operations in your scripts. To make this easier, we uploaded several models in [HuggingFace](https://huggingface.co/speechbrain/). The models uses inference classes to make inference easier. For instance, to transcribe an audio file with a model trained with librispeech you can simply do:"
      ]
    },
    {
      "cell_type": "code",
      "execution_count": 30,
      "metadata": {
        "id": "yAgADNuSR-QL",
        "colab": {
          "base_uri": "https://localhost:8080/",
          "height": 228,
          "referenced_widgets": [
            "74a015311dc648a8bd05801e81934c37",
            "61b7bb459dbc4a78bc63f2d41f1365aa",
            "ba7dd9b928b04bbe860774fb8b5817f8",
            "ad2e7b18761d4a97898b124799f7a5d2",
            "124f694e321b4f14ac41bbc7ce9e087e",
            "a212002773d7484ba3a5ddb9ba498625",
            "fc3b5553cf7f46949624c07065832bce",
            "0f9482be1ad54cbeb7e5b58dfff784d8",
            "e331c9e191264559ad7f8f072e1747b5",
            "a111d5049caf480083cc4c7fd20db557",
            "d22a5f1512cd482db42359b312f622de",
            "9cd1cc1587b0419ca53877ba3438a1c7",
            "efc7580c0920431caedfe4d1cec83e39",
            "d96f5eacff374d15b65c8ad285947ff8",
            "fb8e77692c624104a882cbd0abb82913",
            "6dc7ad9c334743eba4baf5b1ceae5f88",
            "e806333b5c7c44c68d0e29d65545cc77",
            "b9739df9c5f34ed7b0e03d6478e51224",
            "a1ca5ef2affa4b5f9bde78f5bb7a2249",
            "64dde20325c943b8b8335dd2efdb4488",
            "072e13bfb5fd4388b08c10a19d916211",
            "a275762d74914ea1b24317462b2e21f9",
            "2475038ddc774061b1a90cc8b41a46d6",
            "6990a8d294b34499b8bb777438a03f24",
            "0de02cd992cc405c944e649f1b79603e",
            "4ff4919ba3844d30ac1b9a798e95760a",
            "b27edc2216954674821e631e70eda882",
            "d9fc6d4c0bf6479ea52e3bb058a42aff",
            "c964c3b5cc904ba48415378aab2db7a8",
            "6b01829f58b14237933a002bb7e26550",
            "bbe60ab8e85541679c73e45b694e2e13",
            "c558caa599d1449f817f6ecd2c14ccf4",
            "c306cd7855f647ecb8c70975b3eecbc8",
            "2fc36fa5f04341d0840b75eff48668da",
            "c0d80dac66b445cdb34e32d51cbdfafd",
            "0e6c8d7eaac44230adeca4b4fc166548",
            "b2b01424921b4403b08d65a10178dfdc",
            "984a582fb2b744589bbe19863bf4c073",
            "0cacb14a92384b01b4efcc8c124ad223",
            "7e148eeb4123448e89c6fa65d6e9ee49",
            "b65b43efeb6a4f4f8a339450c9148a1a",
            "bce98d60c9084b3885f7e4101c9f76bf",
            "450ef1a5b4d0464c8e96abfe02c6169c",
            "5a934329bbd546c4ad82ecc48a6ef1ee",
            "18e9eb22c22f44eeb300c113cbd8118b",
            "ff1293a996cc4ae18dc9a7a414362947",
            "73f9b93b547a49fa9370c9df42382f45",
            "c9f1bb5918794baaa41a563f290519d2",
            "e2bc34af69ad44588eb836e9fe144e18",
            "ba1427d7d55e41f7bc4c077ca57fb2c1",
            "54f143d3972b4c219a900d955bd32105",
            "1ab13645c98e42c8b7aa92e978f209c3",
            "28540245f98545d39109ea6ebc65344a",
            "9db0538c44be40beb34e5f9bcc0feeec",
            "7ac0755fd10b46f7b72ef5bb148d5c70",
            "7761fc940d4b44538d8ef9f67d1bcae4",
            "705c59776d1a447f9c6437dee99ccc79",
            "e65141373059476d9f4a9fd4c316fec6",
            "3f1dd0c805d4407eb90d710de928fe1f",
            "5e4361b503a84a05871a48680d82a1d6",
            "f516bfd78b034a35bd8124950dcea116",
            "3638d926986b4e45a97d80249b5d0d1b",
            "bcc6c03a6af742b0a18abed4d624acca",
            "4cd2d7f74631402d924fe39fdb9754eb",
            "e5f5a17e4dec4ed9b3855fb74b6cf604",
            "f70ff5f8fb344e4bbb1b246aaec8fa8e"
          ]
        },
        "outputId": "6bb9c649-b08d-49ac-b32d-ef5711806a75"
      },
      "outputs": [
        {
          "output_type": "display_data",
          "data": {
            "text/plain": [
              "Downloading:   0%|          | 0.00/4.49k [00:00<?, ?B/s]"
            ],
            "application/vnd.jupyter.widget-view+json": {
              "version_major": 2,
              "version_minor": 0,
              "model_id": "74a015311dc648a8bd05801e81934c37"
            }
          },
          "metadata": {}
        },
        {
          "output_type": "display_data",
          "data": {
            "text/plain": [
              "Downloading:   0%|          | 0.00/1.41k [00:00<?, ?B/s]"
            ],
            "application/vnd.jupyter.widget-view+json": {
              "version_major": 2,
              "version_minor": 0,
              "model_id": "9cd1cc1587b0419ca53877ba3438a1c7"
            }
          },
          "metadata": {}
        },
        {
          "output_type": "display_data",
          "data": {
            "text/plain": [
              "Downloading:   0%|          | 0.00/480M [00:00<?, ?B/s]"
            ],
            "application/vnd.jupyter.widget-view+json": {
              "version_major": 2,
              "version_minor": 0,
              "model_id": "2475038ddc774061b1a90cc8b41a46d6"
            }
          },
          "metadata": {}
        },
        {
          "output_type": "display_data",
          "data": {
            "text/plain": [
              "Downloading:   0%|          | 0.00/212M [00:00<?, ?B/s]"
            ],
            "application/vnd.jupyter.widget-view+json": {
              "version_major": 2,
              "version_minor": 0,
              "model_id": "2fc36fa5f04341d0840b75eff48668da"
            }
          },
          "metadata": {}
        },
        {
          "output_type": "display_data",
          "data": {
            "text/plain": [
              "Downloading:   0%|          | 0.00/253k [00:00<?, ?B/s]"
            ],
            "application/vnd.jupyter.widget-view+json": {
              "version_major": 2,
              "version_minor": 0,
              "model_id": "18e9eb22c22f44eeb300c113cbd8118b"
            }
          },
          "metadata": {}
        },
        {
          "output_type": "display_data",
          "data": {
            "text/plain": [
              "Downloading:   0%|          | 0.00/104k [00:00<?, ?B/s]"
            ],
            "application/vnd.jupyter.widget-view+json": {
              "version_major": 2,
              "version_minor": 0,
              "model_id": "7761fc940d4b44538d8ef9f67d1bcae4"
            }
          },
          "metadata": {}
        },
        {
          "output_type": "execute_result",
          "data": {
            "text/plain": [
              "'THE BIRCH CANOE SLID ON THE SMOOTH PLANKS'"
            ],
            "application/vnd.google.colaboratory.intrinsic+json": {
              "type": "string"
            }
          },
          "metadata": {},
          "execution_count": 30
        }
      ],
      "source": [
        "from speechbrain.pretrained import EncoderDecoderASR\n",
        "\n",
        "asr_model = EncoderDecoderASR.from_hparams(source=\"speechbrain/asr-crdnn-rnnlm-librispeech\", savedir=\"pretrained_models/asr-crdnn-rnnlm-librispeech\")\n",
        "asr_model.transcribe_file('speechbrain/asr-crdnn-rnnlm-librispeech/example.wav')"
      ]
    },
    {
      "cell_type": "code",
      "execution_count": 31,
      "metadata": {
        "id": "yoEvmkt7R__3",
        "colab": {
          "base_uri": "https://localhost:8080/",
          "height": 76
        },
        "outputId": "38ad60f2-2c31-4453-876d-69581f614420"
      },
      "outputs": [
        {
          "output_type": "execute_result",
          "data": {
            "text/plain": [
              "<IPython.lib.display.Audio object>"
            ],
            "text/html": [
              "\n",
              "                <audio  controls=\"controls\" >\n",
              "                    <source src=\"data:audio/wav;base64,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\" type=\"audio/wav\" />\n",
              "                    Your browser does not support the audio element.\n",
              "                </audio>\n",
              "              "
            ]
          },
          "metadata": {},
          "execution_count": 31
        }
      ],
      "source": [
        "from speechbrain.dataio.dataio import read_audio\n",
        "from IPython.display import Audio\n",
        "signal = read_audio('example.wav').squeeze()\n",
        "Audio(signal, rate=16000)"
      ]
    },
    {
      "cell_type": "markdown",
      "metadata": {
        "id": "iMUr4QHoSEn5"
      },
      "source": [
        "As you can see, in this case there is a matching between the text uttered by the speaker and the content of the audio file.\n",
        "We have similar functions for speaker recognition, speech separation, enhancement."
      ]
    },
    {
      "cell_type": "markdown",
      "metadata": {
        "id": "00-jRMfmSktN"
      },
      "source": [
        "**FOLDER ORGANIZATION**"
      ]
    },
    {
      "cell_type": "markdown",
      "metadata": {
        "id": "2OJhjQHKSm-t"
      },
      "source": [
        "The main folder is organized in this way:\n",
        "\n",
        "*   **SpeechBrain** contains the main libraries of SpeechBrain. You can find here the core.py that implements core functionalities such as the Brain class. You also find here libraries for data loading, decoders, neural networks, signal processing, and many others. Under the folder lobe, you can find combinations of basic functionalities that we think are useful for speech and audio processing. For instance, you can find here the implementation of features like FBANKs and MFCCs, the data augmentation functions, as well as some popular neural networks used a lot in the recipes. \n",
        "*   **Recipes** contains training scripts for several speech datasets. For instance, you can find recipes for *LibriSpeech*, *TIMIT*, *VoxCeleb*, *VoiceBank*, and many others.\n",
        "*   **Samples** is a tiny speech dataset used for training minimal examples and to perform debug tests.\n",
        "*   **Test** is a collection of unit and integration tests that we use for debugging and continuous integration."
      ]
    },
    {
      "cell_type": "markdown",
      "metadata": {
        "id": "EOmf4QQwSnwF"
      },
      "source": [
        "**FORMAT OF TENSORS**"
      ]
    },
    {
      "cell_type": "markdown",
      "metadata": {
        "id": "YOzI0cc7SvSI"
      },
      "source": [
        "All the tensors within SpeechBrain are formatted using the following convention:\n",
        "\n",
        "`tensor=(batch, time_steps, channels[optional])`\n",
        "\n",
        "The batch is always the first element, and time steps are always the second one. The remaining dimensions are channels, which are options and there might be as many as you need).\n",
        "\n",
        "Let's now some examples. For instance, let's try to compute the FBANKS of an input signal:"
      ]
    },
    {
      "cell_type": "code",
      "execution_count": null,
      "metadata": {
        "id": "SU3nE45NSusH"
      },
      "outputs": [],
      "source": [
        "import torch\n",
        "from speechbrain.lobes.features import Fbank\n",
        "\n",
        "signal = torch.rand([4, 16000]) # [batch, time]\n",
        "print(signal.shape)\n",
        "\n",
        "fbank_maker = Fbank()\n",
        "fbanks = fbank_maker(signal) # [batch, time, features]\n",
        "print(fbanks.shape)"
      ]
    },
    {
      "cell_type": "markdown",
      "metadata": {
        "id": "-45Ek2N3Szah"
      },
      "source": [
        "The `Fbank` function expects in input a signal formatted as `[batch, time]`. It returns the features in the format `[batch, time, features]`.\n",
        "\n",
        "Let's now try to compute the STFT of any audio signal:"
      ]
    },
    {
      "cell_type": "code",
      "execution_count": null,
      "metadata": {
        "id": "ApnWyUCxS4PO"
      },
      "outputs": [],
      "source": [
        "import torch\n",
        "from speechbrain.dataio.dataio import read_audio\n",
        "from speechbrain.processing.features import STFT\n",
        "\n",
        "signal = torch.rand([4, 1600]) # [batch, time]\n",
        "print(signal.shape)\n",
        "\n",
        "compute_STFT = STFT(sample_rate=16000, win_length=25, hop_length=10, n_fft=400)\n",
        "signal_STFT = compute_STFT(signal) #[batch, time, channel1, channel2]\n",
        "print(signal_STFT.shape)"
      ]
    },
    {
      "cell_type": "markdown",
      "metadata": {
        "id": "_ilNa6w0S-mu"
      },
      "source": [
        "The output here is `[batch, time, channel1, channel2]`, where  `channel1` is the feature axis and `channel2` is the real and imaginary part."
      ]
    },
    {
      "cell_type": "markdown",
      "metadata": {
        "id": "rbHsrRswTBP8"
      },
      "source": [
        "**Why do we need a tensor format?**\n",
        "Defining a tensor format makes model combination easier. Many formats are possible. For SpeechBrain, we selected this one because it is commonly used in recurrent neural networks.\n",
        "\n",
        "In SpeechBrain, the basic building blocks of the neural networks (e.g, *RNN*, *CNN*, *normalization*, *pooling*, ...) are designed to support the same tensor format and can thus be combined smoothly. \n",
        "\n",
        "To convince you about that, let's try to combine a CNN and an RNN using SpeechBrain: "
      ]
    },
    {
      "cell_type": "code",
      "execution_count": null,
      "metadata": {
        "id": "B8jDStejTC7E"
      },
      "outputs": [],
      "source": [
        "from speechbrain.nnet.CNN import Conv1d\n",
        "from  speechbrain.nnet.RNN import LSTM\n",
        "\n",
        "inp_tensor = torch.rand([10, 15, 40])\n",
        "print(inp_tensor.shape)\n",
        "\n",
        "# CNN\n",
        "CNN = Conv1d(input_shape=inp_tensor.shape, out_channels=8, kernel_size=5)\n",
        "cnn_out = CNN(inp_tensor)\n",
        "print(cnn_out.shape)\n",
        "\n",
        "\n",
        "# RNN\n",
        "RNN = LSTM(input_shape=cnn_out.shape, hidden_size=256, num_layers=1)\n",
        "rnn_out, _ = RNN(cnn_out)\n",
        "print(rnn_out.shape)"
      ]
    },
    {
      "cell_type": "markdown",
      "metadata": {
        "id": "QG4NfYCmTFx-"
      },
      "source": [
        "The combination is done without any tensor reshaping (e.g, we don't have to transpose, squeeze, unsqueeze). The basic nnet functions are a wrapper of the original pytorch functions.  The difference is that er manage for you all the annoying tensor reshaping operations. This makes the code cleaner and easier to follow.\n",
        "Let's try to do the same operation with raw PyTorch:"
      ]
    },
    {
      "cell_type": "code",
      "execution_count": null,
      "metadata": {
        "id": "IAyToCO-THPU"
      },
      "outputs": [],
      "source": [
        "import torch\n",
        "\n",
        "inp_tensor = torch.rand([10, 15, 40])\n",
        "print(inp_tensor.shape)\n",
        "\n",
        "# CNN\n",
        "CNN = torch.nn.Conv1d(in_channels=40, out_channels=8, kernel_size=5)\n",
        "inp_tensor_tr = inp_tensor.transpose(1,2) # requres (N,C,L) \n",
        "cnn_out_tr = CNN(inp_tensor_tr)\n",
        "print(cnn_out_tr.shape)\n",
        "\n",
        "# RNN\n",
        "cnn_out_tr2 = cnn_out_tr.transpose(1,2)\n",
        "RNN = torch.nn.LSTM(input_size=8, hidden_size=256, num_layers=1)\n",
        "rnn_out, _ = RNN(cnn_out_tr2)\n",
        "print(rnn_out.shape)"
      ]
    },
    {
      "cell_type": "markdown",
      "metadata": {
        "id": "HVm1PVEuTKvE"
      },
      "source": [
        "The raw pytorch approach requires two transpose operations because of the different tensor formats used in CNN and RNN modules. In SpeechBrain, this is managed internally and users do not have to worry about it."
      ]
    },
    {
      "cell_type": "markdown",
      "metadata": {
        "id": "cHK-G9vxTMWc"
      },
      "source": [
        "<h1><center>END OF 1ST TUTORIAL !</center></h1>"
      ]
    }
  ],
  "metadata": {
    "colab": {
      "provenance": [],
      "authorship_tag": "ABX9TyOeCHtWdKVqjjGd68B6h7Vr",
      "include_colab_link": true
    },
    "kernelspec": {
      "display_name": "Python 3",
      "name": "python3"
    },
    "language_info": {
      "name": "python"
    },
    "widgets": {
      "application/vnd.jupyter.widget-state+json": {
        "74a015311dc648a8bd05801e81934c37": {
          "model_module": "@jupyter-widgets/controls",
          "model_name": "HBoxModel",
          "model_module_version": "1.5.0",
          "state": {
            "_dom_classes": [],
            "_model_module": "@jupyter-widgets/controls",
            "_model_module_version": "1.5.0",
            "_model_name": "HBoxModel",
            "_view_count": null,
            "_view_module": "@jupyter-widgets/controls",
            "_view_module_version": "1.5.0",
            "_view_name": "HBoxView",
            "box_style": "",
            "children": [
              "IPY_MODEL_61b7bb459dbc4a78bc63f2d41f1365aa",
              "IPY_MODEL_ba7dd9b928b04bbe860774fb8b5817f8",
              "IPY_MODEL_ad2e7b18761d4a97898b124799f7a5d2"
            ],
            "layout": "IPY_MODEL_124f694e321b4f14ac41bbc7ce9e087e"
          }
        },
        "61b7bb459dbc4a78bc63f2d41f1365aa": {
          "model_module": "@jupyter-widgets/controls",
          "model_name": "HTMLModel",
          "model_module_version": "1.5.0",
          "state": {
            "_dom_classes": [],
            "_model_module": "@jupyter-widgets/controls",
            "_model_module_version": "1.5.0",
            "_model_name": "HTMLModel",
            "_view_count": null,
            "_view_module": "@jupyter-widgets/controls",
            "_view_module_version": "1.5.0",
            "_view_name": "HTMLView",
            "description": "",
            "description_tooltip": null,
            "layout": "IPY_MODEL_a212002773d7484ba3a5ddb9ba498625",
            "placeholder": "​",
            "style": "IPY_MODEL_fc3b5553cf7f46949624c07065832bce",
            "value": "Downloading: 100%"
          }
        },
        "ba7dd9b928b04bbe860774fb8b5817f8": {
          "model_module": "@jupyter-widgets/controls",
          "model_name": "FloatProgressModel",
          "model_module_version": "1.5.0",
          "state": {
            "_dom_classes": [],
            "_model_module": "@jupyter-widgets/controls",
            "_model_module_version": "1.5.0",
            "_model_name": "FloatProgressModel",
            "_view_count": null,
            "_view_module": "@jupyter-widgets/controls",
            "_view_module_version": "1.5.0",
            "_view_name": "ProgressView",
            "bar_style": "success",
            "description": "",
            "description_tooltip": null,
            "layout": "IPY_MODEL_0f9482be1ad54cbeb7e5b58dfff784d8",
            "max": 4494,
            "min": 0,
            "orientation": "horizontal",
            "style": "IPY_MODEL_e331c9e191264559ad7f8f072e1747b5",
            "value": 4494
          }
        },
        "ad2e7b18761d4a97898b124799f7a5d2": {
          "model_module": "@jupyter-widgets/controls",
          "model_name": "HTMLModel",
          "model_module_version": "1.5.0",
          "state": {
            "_dom_classes": [],
            "_model_module": "@jupyter-widgets/controls",
            "_model_module_version": "1.5.0",
            "_model_name": "HTMLModel",
            "_view_count": null,
            "_view_module": "@jupyter-widgets/controls",
            "_view_module_version": "1.5.0",
            "_view_name": "HTMLView",
            "description": "",
            "description_tooltip": null,
            "layout": "IPY_MODEL_a111d5049caf480083cc4c7fd20db557",
            "placeholder": "​",
            "style": "IPY_MODEL_d22a5f1512cd482db42359b312f622de",
            "value": " 4.49k/4.49k [00:00&lt;00:00, 127kB/s]"
          }
        },
        "124f694e321b4f14ac41bbc7ce9e087e": {
          "model_module": "@jupyter-widgets/base",
          "model_name": "LayoutModel",
          "model_module_version": "1.2.0",
          "state": {
            "_model_module": "@jupyter-widgets/base",
            "_model_module_version": "1.2.0",
            "_model_name": "LayoutModel",
            "_view_count": null,
            "_view_module": "@jupyter-widgets/base",
            "_view_module_version": "1.2.0",
            "_view_name": "LayoutView",
            "align_content": null,
            "align_items": null,
            "align_self": null,
            "border": null,
            "bottom": null,
            "display": null,
            "flex": null,
            "flex_flow": null,
            "grid_area": null,
            "grid_auto_columns": null,
            "grid_auto_flow": null,
            "grid_auto_rows": null,
            "grid_column": null,
            "grid_gap": null,
            "grid_row": null,
            "grid_template_areas": null,
            "grid_template_columns": null,
            "grid_template_rows": null,
            "height": null,
            "justify_content": null,
            "justify_items": null,
            "left": null,
            "margin": null,
            "max_height": null,
            "max_width": null,
            "min_height": null,
            "min_width": null,
            "object_fit": null,
            "object_position": null,
            "order": null,
            "overflow": null,
            "overflow_x": null,
            "overflow_y": null,
            "padding": null,
            "right": null,
            "top": null,
            "visibility": null,
            "width": null
          }
        },
        "a212002773d7484ba3a5ddb9ba498625": {
          "model_module": "@jupyter-widgets/base",
          "model_name": "LayoutModel",
          "model_module_version": "1.2.0",
          "state": {
            "_model_module": "@jupyter-widgets/base",
            "_model_module_version": "1.2.0",
            "_model_name": "LayoutModel",
            "_view_count": null,
            "_view_module": "@jupyter-widgets/base",
            "_view_module_version": "1.2.0",
            "_view_name": "LayoutView",
            "align_content": null,
            "align_items": null,
            "align_self": null,
            "border": null,
            "bottom": null,
            "display": null,
            "flex": null,
            "flex_flow": null,
            "grid_area": null,
            "grid_auto_columns": null,
            "grid_auto_flow": null,
            "grid_auto_rows": null,
            "grid_column": null,
            "grid_gap": null,
            "grid_row": null,
            "grid_template_areas": null,
            "grid_template_columns": null,
            "grid_template_rows": null,
            "height": null,
            "justify_content": null,
            "justify_items": null,
            "left": null,
            "margin": null,
            "max_height": null,
            "max_width": null,
            "min_height": null,
            "min_width": null,
            "object_fit": null,
            "object_position": null,
            "order": null,
            "overflow": null,
            "overflow_x": null,
            "overflow_y": null,
            "padding": null,
            "right": null,
            "top": null,
            "visibility": null,
            "width": null
          }
        },
        "fc3b5553cf7f46949624c07065832bce": {
          "model_module": "@jupyter-widgets/controls",
          "model_name": "DescriptionStyleModel",
          "model_module_version": "1.5.0",
          "state": {
            "_model_module": "@jupyter-widgets/controls",
            "_model_module_version": "1.5.0",
            "_model_name": "DescriptionStyleModel",
            "_view_count": null,
            "_view_module": "@jupyter-widgets/base",
            "_view_module_version": "1.2.0",
            "_view_name": "StyleView",
            "description_width": ""
          }
        },
        "0f9482be1ad54cbeb7e5b58dfff784d8": {
          "model_module": "@jupyter-widgets/base",
          "model_name": "LayoutModel",
          "model_module_version": "1.2.0",
          "state": {
            "_model_module": "@jupyter-widgets/base",
            "_model_module_version": "1.2.0",
            "_model_name": "LayoutModel",
            "_view_count": null,
            "_view_module": "@jupyter-widgets/base",
            "_view_module_version": "1.2.0",
            "_view_name": "LayoutView",
            "align_content": null,
            "align_items": null,
            "align_self": null,
            "border": null,
            "bottom": null,
            "display": null,
            "flex": null,
            "flex_flow": null,
            "grid_area": null,
            "grid_auto_columns": null,
            "grid_auto_flow": null,
            "grid_auto_rows": null,
            "grid_column": null,
            "grid_gap": null,
            "grid_row": null,
            "grid_template_areas": null,
            "grid_template_columns": null,
            "grid_template_rows": null,
            "height": null,
            "justify_content": null,
            "justify_items": null,
            "left": null,
            "margin": null,
            "max_height": null,
            "max_width": null,
            "min_height": null,
            "min_width": null,
            "object_fit": null,
            "object_position": null,
            "order": null,
            "overflow": null,
            "overflow_x": null,
            "overflow_y": null,
            "padding": null,
            "right": null,
            "top": null,
            "visibility": null,
            "width": null
          }
        },
        "e331c9e191264559ad7f8f072e1747b5": {
          "model_module": "@jupyter-widgets/controls",
          "model_name": "ProgressStyleModel",
          "model_module_version": "1.5.0",
          "state": {
            "_model_module": "@jupyter-widgets/controls",
            "_model_module_version": "1.5.0",
            "_model_name": "ProgressStyleModel",
            "_view_count": null,
            "_view_module": "@jupyter-widgets/base",
            "_view_module_version": "1.2.0",
            "_view_name": "StyleView",
            "bar_color": null,
            "description_width": ""
          }
        },
        "a111d5049caf480083cc4c7fd20db557": {
          "model_module": "@jupyter-widgets/base",
          "model_name": "LayoutModel",
          "model_module_version": "1.2.0",
          "state": {
            "_model_module": "@jupyter-widgets/base",
            "_model_module_version": "1.2.0",
            "_model_name": "LayoutModel",
            "_view_count": null,
            "_view_module": "@jupyter-widgets/base",
            "_view_module_version": "1.2.0",
            "_view_name": "LayoutView",
            "align_content": null,
            "align_items": null,
            "align_self": null,
            "border": null,
            "bottom": null,
            "display": null,
            "flex": null,
            "flex_flow": null,
            "grid_area": null,
            "grid_auto_columns": null,
            "grid_auto_flow": null,
            "grid_auto_rows": null,
            "grid_column": null,
            "grid_gap": null,
            "grid_row": null,
            "grid_template_areas": null,
            "grid_template_columns": null,
            "grid_template_rows": null,
            "height": null,
            "justify_content": null,
            "justify_items": null,
            "left": null,
            "margin": null,
            "max_height": null,
            "max_width": null,
            "min_height": null,
            "min_width": null,
            "object_fit": null,
            "object_position": null,
            "order": null,
            "overflow": null,
            "overflow_x": null,
            "overflow_y": null,
            "padding": null,
            "right": null,
            "top": null,
            "visibility": null,
            "width": null
          }
        },
        "d22a5f1512cd482db42359b312f622de": {
          "model_module": "@jupyter-widgets/controls",
          "model_name": "DescriptionStyleModel",
          "model_module_version": "1.5.0",
          "state": {
            "_model_module": "@jupyter-widgets/controls",
            "_model_module_version": "1.5.0",
            "_model_name": "DescriptionStyleModel",
            "_view_count": null,
            "_view_module": "@jupyter-widgets/base",
            "_view_module_version": "1.2.0",
            "_view_name": "StyleView",
            "description_width": ""
          }
        },
        "9cd1cc1587b0419ca53877ba3438a1c7": {
          "model_module": "@jupyter-widgets/controls",
          "model_name": "HBoxModel",
          "model_module_version": "1.5.0",
          "state": {
            "_dom_classes": [],
            "_model_module": "@jupyter-widgets/controls",
            "_model_module_version": "1.5.0",
            "_model_name": "HBoxModel",
            "_view_count": null,
            "_view_module": "@jupyter-widgets/controls",
            "_view_module_version": "1.5.0",
            "_view_name": "HBoxView",
            "box_style": "",
            "children": [
              "IPY_MODEL_efc7580c0920431caedfe4d1cec83e39",
              "IPY_MODEL_d96f5eacff374d15b65c8ad285947ff8",
              "IPY_MODEL_fb8e77692c624104a882cbd0abb82913"
            ],
            "layout": "IPY_MODEL_6dc7ad9c334743eba4baf5b1ceae5f88"
          }
        },
        "efc7580c0920431caedfe4d1cec83e39": {
          "model_module": "@jupyter-widgets/controls",
          "model_name": "HTMLModel",
          "model_module_version": "1.5.0",
          "state": {
            "_dom_classes": [],
            "_model_module": "@jupyter-widgets/controls",
            "_model_module_version": "1.5.0",
            "_model_name": "HTMLModel",
            "_view_count": null,
            "_view_module": "@jupyter-widgets/controls",
            "_view_module_version": "1.5.0",
            "_view_name": "HTMLView",
            "description": "",
            "description_tooltip": null,
            "layout": "IPY_MODEL_e806333b5c7c44c68d0e29d65545cc77",
            "placeholder": "​",
            "style": "IPY_MODEL_b9739df9c5f34ed7b0e03d6478e51224",
            "value": "Downloading: 100%"
          }
        },
        "d96f5eacff374d15b65c8ad285947ff8": {
          "model_module": "@jupyter-widgets/controls",
          "model_name": "FloatProgressModel",
          "model_module_version": "1.5.0",
          "state": {
            "_dom_classes": [],
            "_model_module": "@jupyter-widgets/controls",
            "_model_module_version": "1.5.0",
            "_model_name": "FloatProgressModel",
            "_view_count": null,
            "_view_module": "@jupyter-widgets/controls",
            "_view_module_version": "1.5.0",
            "_view_name": "ProgressView",
            "bar_style": "success",
            "description": "",
            "description_tooltip": null,
            "layout": "IPY_MODEL_a1ca5ef2affa4b5f9bde78f5bb7a2249",
            "max": 1409,
            "min": 0,
            "orientation": "horizontal",
            "style": "IPY_MODEL_64dde20325c943b8b8335dd2efdb4488",
            "value": 1409
          }
        },
        "fb8e77692c624104a882cbd0abb82913": {
          "model_module": "@jupyter-widgets/controls",
          "model_name": "HTMLModel",
          "model_module_version": "1.5.0",
          "state": {
            "_dom_classes": [],
            "_model_module": "@jupyter-widgets/controls",
            "_model_module_version": "1.5.0",
            "_model_name": "HTMLModel",
            "_view_count": null,
            "_view_module": "@jupyter-widgets/controls",
            "_view_module_version": "1.5.0",
            "_view_name": "HTMLView",
            "description": "",
            "description_tooltip": null,
            "layout": "IPY_MODEL_072e13bfb5fd4388b08c10a19d916211",
            "placeholder": "​",
            "style": "IPY_MODEL_a275762d74914ea1b24317462b2e21f9",
            "value": " 1.41k/1.41k [00:00&lt;00:00, 61.0kB/s]"
          }
        },
        "6dc7ad9c334743eba4baf5b1ceae5f88": {
          "model_module": "@jupyter-widgets/base",
          "model_name": "LayoutModel",
          "model_module_version": "1.2.0",
          "state": {
            "_model_module": "@jupyter-widgets/base",
            "_model_module_version": "1.2.0",
            "_model_name": "LayoutModel",
            "_view_count": null,
            "_view_module": "@jupyter-widgets/base",
            "_view_module_version": "1.2.0",
            "_view_name": "LayoutView",
            "align_content": null,
            "align_items": null,
            "align_self": null,
            "border": null,
            "bottom": null,
            "display": null,
            "flex": null,
            "flex_flow": null,
            "grid_area": null,
            "grid_auto_columns": null,
            "grid_auto_flow": null,
            "grid_auto_rows": null,
            "grid_column": null,
            "grid_gap": null,
            "grid_row": null,
            "grid_template_areas": null,
            "grid_template_columns": null,
            "grid_template_rows": null,
            "height": null,
            "justify_content": null,
            "justify_items": null,
            "left": null,
            "margin": null,
            "max_height": null,
            "max_width": null,
            "min_height": null,
            "min_width": null,
            "object_fit": null,
            "object_position": null,
            "order": null,
            "overflow": null,
            "overflow_x": null,
            "overflow_y": null,
            "padding": null,
            "right": null,
            "top": null,
            "visibility": null,
            "width": null
          }
        },
        "e806333b5c7c44c68d0e29d65545cc77": {
          "model_module": "@jupyter-widgets/base",
          "model_name": "LayoutModel",
          "model_module_version": "1.2.0",
          "state": {
            "_model_module": "@jupyter-widgets/base",
            "_model_module_version": "1.2.0",
            "_model_name": "LayoutModel",
            "_view_count": null,
            "_view_module": "@jupyter-widgets/base",
            "_view_module_version": "1.2.0",
            "_view_name": "LayoutView",
            "align_content": null,
            "align_items": null,
            "align_self": null,
            "border": null,
            "bottom": null,
            "display": null,
            "flex": null,
            "flex_flow": null,
            "grid_area": null,
            "grid_auto_columns": null,
            "grid_auto_flow": null,
            "grid_auto_rows": null,
            "grid_column": null,
            "grid_gap": null,
            "grid_row": null,
            "grid_template_areas": null,
            "grid_template_columns": null,
            "grid_template_rows": null,
            "height": null,
            "justify_content": null,
            "justify_items": null,
            "left": null,
            "margin": null,
            "max_height": null,
            "max_width": null,
            "min_height": null,
            "min_width": null,
            "object_fit": null,
            "object_position": null,
            "order": null,
            "overflow": null,
            "overflow_x": null,
            "overflow_y": null,
            "padding": null,
            "right": null,
            "top": null,
            "visibility": null,
            "width": null
          }
        },
        "b9739df9c5f34ed7b0e03d6478e51224": {
          "model_module": "@jupyter-widgets/controls",
          "model_name": "DescriptionStyleModel",
          "model_module_version": "1.5.0",
          "state": {
            "_model_module": "@jupyter-widgets/controls",
            "_model_module_version": "1.5.0",
            "_model_name": "DescriptionStyleModel",
            "_view_count": null,
            "_view_module": "@jupyter-widgets/base",
            "_view_module_version": "1.2.0",
            "_view_name": "StyleView",
            "description_width": ""
          }
        },
        "a1ca5ef2affa4b5f9bde78f5bb7a2249": {
          "model_module": "@jupyter-widgets/base",
          "model_name": "LayoutModel",
          "model_module_version": "1.2.0",
          "state": {
            "_model_module": "@jupyter-widgets/base",
            "_model_module_version": "1.2.0",
            "_model_name": "LayoutModel",
            "_view_count": null,
            "_view_module": "@jupyter-widgets/base",
            "_view_module_version": "1.2.0",
            "_view_name": "LayoutView",
            "align_content": null,
            "align_items": null,
            "align_self": null,
            "border": null,
            "bottom": null,
            "display": null,
            "flex": null,
            "flex_flow": null,
            "grid_area": null,
            "grid_auto_columns": null,
            "grid_auto_flow": null,
            "grid_auto_rows": null,
            "grid_column": null,
            "grid_gap": null,
            "grid_row": null,
            "grid_template_areas": null,
            "grid_template_columns": null,
            "grid_template_rows": null,
            "height": null,
            "justify_content": null,
            "justify_items": null,
            "left": null,
            "margin": null,
            "max_height": null,
            "max_width": null,
            "min_height": null,
            "min_width": null,
            "object_fit": null,
            "object_position": null,
            "order": null,
            "overflow": null,
            "overflow_x": null,
            "overflow_y": null,
            "padding": null,
            "right": null,
            "top": null,
            "visibility": null,
            "width": null
          }
        },
        "64dde20325c943b8b8335dd2efdb4488": {
          "model_module": "@jupyter-widgets/controls",
          "model_name": "ProgressStyleModel",
          "model_module_version": "1.5.0",
          "state": {
            "_model_module": "@jupyter-widgets/controls",
            "_model_module_version": "1.5.0",
            "_model_name": "ProgressStyleModel",
            "_view_count": null,
            "_view_module": "@jupyter-widgets/base",
            "_view_module_version": "1.2.0",
            "_view_name": "StyleView",
            "bar_color": null,
            "description_width": ""
          }
        },
        "072e13bfb5fd4388b08c10a19d916211": {
          "model_module": "@jupyter-widgets/base",
          "model_name": "LayoutModel",
          "model_module_version": "1.2.0",
          "state": {
            "_model_module": "@jupyter-widgets/base",
            "_model_module_version": "1.2.0",
            "_model_name": "LayoutModel",
            "_view_count": null,
            "_view_module": "@jupyter-widgets/base",
            "_view_module_version": "1.2.0",
            "_view_name": "LayoutView",
            "align_content": null,
            "align_items": null,
            "align_self": null,
            "border": null,
            "bottom": null,
            "display": null,
            "flex": null,
            "flex_flow": null,
            "grid_area": null,
            "grid_auto_columns": null,
            "grid_auto_flow": null,
            "grid_auto_rows": null,
            "grid_column": null,
            "grid_gap": null,
            "grid_row": null,
            "grid_template_areas": null,
            "grid_template_columns": null,
            "grid_template_rows": null,
            "height": null,
            "justify_content": null,
            "justify_items": null,
            "left": null,
            "margin": null,
            "max_height": null,
            "max_width": null,
            "min_height": null,
            "min_width": null,
            "object_fit": null,
            "object_position": null,
            "order": null,
            "overflow": null,
            "overflow_x": null,
            "overflow_y": null,
            "padding": null,
            "right": null,
            "top": null,
            "visibility": null,
            "width": null
          }
        },
        "a275762d74914ea1b24317462b2e21f9": {
          "model_module": "@jupyter-widgets/controls",
          "model_name": "DescriptionStyleModel",
          "model_module_version": "1.5.0",
          "state": {
            "_model_module": "@jupyter-widgets/controls",
            "_model_module_version": "1.5.0",
            "_model_name": "DescriptionStyleModel",
            "_view_count": null,
            "_view_module": "@jupyter-widgets/base",
            "_view_module_version": "1.2.0",
            "_view_name": "StyleView",
            "description_width": ""
          }
        },
        "2475038ddc774061b1a90cc8b41a46d6": {
          "model_module": "@jupyter-widgets/controls",
          "model_name": "HBoxModel",
          "model_module_version": "1.5.0",
          "state": {
            "_dom_classes": [],
            "_model_module": "@jupyter-widgets/controls",
            "_model_module_version": "1.5.0",
            "_model_name": "HBoxModel",
            "_view_count": null,
            "_view_module": "@jupyter-widgets/controls",
            "_view_module_version": "1.5.0",
            "_view_name": "HBoxView",
            "box_style": "",
            "children": [
              "IPY_MODEL_6990a8d294b34499b8bb777438a03f24",
              "IPY_MODEL_0de02cd992cc405c944e649f1b79603e",
              "IPY_MODEL_4ff4919ba3844d30ac1b9a798e95760a"
            ],
            "layout": "IPY_MODEL_b27edc2216954674821e631e70eda882"
          }
        },
        "6990a8d294b34499b8bb777438a03f24": {
          "model_module": "@jupyter-widgets/controls",
          "model_name": "HTMLModel",
          "model_module_version": "1.5.0",
          "state": {
            "_dom_classes": [],
            "_model_module": "@jupyter-widgets/controls",
            "_model_module_version": "1.5.0",
            "_model_name": "HTMLModel",
            "_view_count": null,
            "_view_module": "@jupyter-widgets/controls",
            "_view_module_version": "1.5.0",
            "_view_name": "HTMLView",
            "description": "",
            "description_tooltip": null,
            "layout": "IPY_MODEL_d9fc6d4c0bf6479ea52e3bb058a42aff",
            "placeholder": "​",
            "style": "IPY_MODEL_c964c3b5cc904ba48415378aab2db7a8",
            "value": "Downloading: 100%"
          }
        },
        "0de02cd992cc405c944e649f1b79603e": {
          "model_module": "@jupyter-widgets/controls",
          "model_name": "FloatProgressModel",
          "model_module_version": "1.5.0",
          "state": {
            "_dom_classes": [],
            "_model_module": "@jupyter-widgets/controls",
            "_model_module_version": "1.5.0",
            "_model_name": "FloatProgressModel",
            "_view_count": null,
            "_view_module": "@jupyter-widgets/controls",
            "_view_module_version": "1.5.0",
            "_view_name": "ProgressView",
            "bar_style": "success",
            "description": "",
            "description_tooltip": null,
            "layout": "IPY_MODEL_6b01829f58b14237933a002bb7e26550",
            "max": 479555971,
            "min": 0,
            "orientation": "horizontal",
            "style": "IPY_MODEL_bbe60ab8e85541679c73e45b694e2e13",
            "value": 479555971
          }
        },
        "4ff4919ba3844d30ac1b9a798e95760a": {
          "model_module": "@jupyter-widgets/controls",
          "model_name": "HTMLModel",
          "model_module_version": "1.5.0",
          "state": {
            "_dom_classes": [],
            "_model_module": "@jupyter-widgets/controls",
            "_model_module_version": "1.5.0",
            "_model_name": "HTMLModel",
            "_view_count": null,
            "_view_module": "@jupyter-widgets/controls",
            "_view_module_version": "1.5.0",
            "_view_name": "HTMLView",
            "description": "",
            "description_tooltip": null,
            "layout": "IPY_MODEL_c558caa599d1449f817f6ecd2c14ccf4",
            "placeholder": "​",
            "style": "IPY_MODEL_c306cd7855f647ecb8c70975b3eecbc8",
            "value": " 480M/480M [00:10&lt;00:00, 31.5MB/s]"
          }
        },
        "b27edc2216954674821e631e70eda882": {
          "model_module": "@jupyter-widgets/base",
          "model_name": "LayoutModel",
          "model_module_version": "1.2.0",
          "state": {
            "_model_module": "@jupyter-widgets/base",
            "_model_module_version": "1.2.0",
            "_model_name": "LayoutModel",
            "_view_count": null,
            "_view_module": "@jupyter-widgets/base",
            "_view_module_version": "1.2.0",
            "_view_name": "LayoutView",
            "align_content": null,
            "align_items": null,
            "align_self": null,
            "border": null,
            "bottom": null,
            "display": null,
            "flex": null,
            "flex_flow": null,
            "grid_area": null,
            "grid_auto_columns": null,
            "grid_auto_flow": null,
            "grid_auto_rows": null,
            "grid_column": null,
            "grid_gap": null,
            "grid_row": null,
            "grid_template_areas": null,
            "grid_template_columns": null,
            "grid_template_rows": null,
            "height": null,
            "justify_content": null,
            "justify_items": null,
            "left": null,
            "margin": null,
            "max_height": null,
            "max_width": null,
            "min_height": null,
            "min_width": null,
            "object_fit": null,
            "object_position": null,
            "order": null,
            "overflow": null,
            "overflow_x": null,
            "overflow_y": null,
            "padding": null,
            "right": null,
            "top": null,
            "visibility": null,
            "width": null
          }
        },
        "d9fc6d4c0bf6479ea52e3bb058a42aff": {
          "model_module": "@jupyter-widgets/base",
          "model_name": "LayoutModel",
          "model_module_version": "1.2.0",
          "state": {
            "_model_module": "@jupyter-widgets/base",
            "_model_module_version": "1.2.0",
            "_model_name": "LayoutModel",
            "_view_count": null,
            "_view_module": "@jupyter-widgets/base",
            "_view_module_version": "1.2.0",
            "_view_name": "LayoutView",
            "align_content": null,
            "align_items": null,
            "align_self": null,
            "border": null,
            "bottom": null,
            "display": null,
            "flex": null,
            "flex_flow": null,
            "grid_area": null,
            "grid_auto_columns": null,
            "grid_auto_flow": null,
            "grid_auto_rows": null,
            "grid_column": null,
            "grid_gap": null,
            "grid_row": null,
            "grid_template_areas": null,
            "grid_template_columns": null,
            "grid_template_rows": null,
            "height": null,
            "justify_content": null,
            "justify_items": null,
            "left": null,
            "margin": null,
            "max_height": null,
            "max_width": null,
            "min_height": null,
            "min_width": null,
            "object_fit": null,
            "object_position": null,
            "order": null,
            "overflow": null,
            "overflow_x": null,
            "overflow_y": null,
            "padding": null,
            "right": null,
            "top": null,
            "visibility": null,
            "width": null
          }
        },
        "c964c3b5cc904ba48415378aab2db7a8": {
          "model_module": "@jupyter-widgets/controls",
          "model_name": "DescriptionStyleModel",
          "model_module_version": "1.5.0",
          "state": {
            "_model_module": "@jupyter-widgets/controls",
            "_model_module_version": "1.5.0",
            "_model_name": "DescriptionStyleModel",
            "_view_count": null,
            "_view_module": "@jupyter-widgets/base",
            "_view_module_version": "1.2.0",
            "_view_name": "StyleView",
            "description_width": ""
          }
        },
        "6b01829f58b14237933a002bb7e26550": {
          "model_module": "@jupyter-widgets/base",
          "model_name": "LayoutModel",
          "model_module_version": "1.2.0",
          "state": {
            "_model_module": "@jupyter-widgets/base",
            "_model_module_version": "1.2.0",
            "_model_name": "LayoutModel",
            "_view_count": null,
            "_view_module": "@jupyter-widgets/base",
            "_view_module_version": "1.2.0",
            "_view_name": "LayoutView",
            "align_content": null,
            "align_items": null,
            "align_self": null,
            "border": null,
            "bottom": null,
            "display": null,
            "flex": null,
            "flex_flow": null,
            "grid_area": null,
            "grid_auto_columns": null,
            "grid_auto_flow": null,
            "grid_auto_rows": null,
            "grid_column": null,
            "grid_gap": null,
            "grid_row": null,
            "grid_template_areas": null,
            "grid_template_columns": null,
            "grid_template_rows": null,
            "height": null,
            "justify_content": null,
            "justify_items": null,
            "left": null,
            "margin": null,
            "max_height": null,
            "max_width": null,
            "min_height": null,
            "min_width": null,
            "object_fit": null,
            "object_position": null,
            "order": null,
            "overflow": null,
            "overflow_x": null,
            "overflow_y": null,
            "padding": null,
            "right": null,
            "top": null,
            "visibility": null,
            "width": null
          }
        },
        "bbe60ab8e85541679c73e45b694e2e13": {
          "model_module": "@jupyter-widgets/controls",
          "model_name": "ProgressStyleModel",
          "model_module_version": "1.5.0",
          "state": {
            "_model_module": "@jupyter-widgets/controls",
            "_model_module_version": "1.5.0",
            "_model_name": "ProgressStyleModel",
            "_view_count": null,
            "_view_module": "@jupyter-widgets/base",
            "_view_module_version": "1.2.0",
            "_view_name": "StyleView",
            "bar_color": null,
            "description_width": ""
          }
        },
        "c558caa599d1449f817f6ecd2c14ccf4": {
          "model_module": "@jupyter-widgets/base",
          "model_name": "LayoutModel",
          "model_module_version": "1.2.0",
          "state": {
            "_model_module": "@jupyter-widgets/base",
            "_model_module_version": "1.2.0",
            "_model_name": "LayoutModel",
            "_view_count": null,
            "_view_module": "@jupyter-widgets/base",
            "_view_module_version": "1.2.0",
            "_view_name": "LayoutView",
            "align_content": null,
            "align_items": null,
            "align_self": null,
            "border": null,
            "bottom": null,
            "display": null,
            "flex": null,
            "flex_flow": null,
            "grid_area": null,
            "grid_auto_columns": null,
            "grid_auto_flow": null,
            "grid_auto_rows": null,
            "grid_column": null,
            "grid_gap": null,
            "grid_row": null,
            "grid_template_areas": null,
            "grid_template_columns": null,
            "grid_template_rows": null,
            "height": null,
            "justify_content": null,
            "justify_items": null,
            "left": null,
            "margin": null,
            "max_height": null,
            "max_width": null,
            "min_height": null,
            "min_width": null,
            "object_fit": null,
            "object_position": null,
            "order": null,
            "overflow": null,
            "overflow_x": null,
            "overflow_y": null,
            "padding": null,
            "right": null,
            "top": null,
            "visibility": null,
            "width": null
          }
        },
        "c306cd7855f647ecb8c70975b3eecbc8": {
          "model_module": "@jupyter-widgets/controls",
          "model_name": "DescriptionStyleModel",
          "model_module_version": "1.5.0",
          "state": {
            "_model_module": "@jupyter-widgets/controls",
            "_model_module_version": "1.5.0",
            "_model_name": "DescriptionStyleModel",
            "_view_count": null,
            "_view_module": "@jupyter-widgets/base",
            "_view_module_version": "1.2.0",
            "_view_name": "StyleView",
            "description_width": ""
          }
        },
        "2fc36fa5f04341d0840b75eff48668da": {
          "model_module": "@jupyter-widgets/controls",
          "model_name": "HBoxModel",
          "model_module_version": "1.5.0",
          "state": {
            "_dom_classes": [],
            "_model_module": "@jupyter-widgets/controls",
            "_model_module_version": "1.5.0",
            "_model_name": "HBoxModel",
            "_view_count": null,
            "_view_module": "@jupyter-widgets/controls",
            "_view_module_version": "1.5.0",
            "_view_name": "HBoxView",
            "box_style": "",
            "children": [
              "IPY_MODEL_c0d80dac66b445cdb34e32d51cbdfafd",
              "IPY_MODEL_0e6c8d7eaac44230adeca4b4fc166548",
              "IPY_MODEL_b2b01424921b4403b08d65a10178dfdc"
            ],
            "layout": "IPY_MODEL_984a582fb2b744589bbe19863bf4c073"
          }
        },
        "c0d80dac66b445cdb34e32d51cbdfafd": {
          "model_module": "@jupyter-widgets/controls",
          "model_name": "HTMLModel",
          "model_module_version": "1.5.0",
          "state": {
            "_dom_classes": [],
            "_model_module": "@jupyter-widgets/controls",
            "_model_module_version": "1.5.0",
            "_model_name": "HTMLModel",
            "_view_count": null,
            "_view_module": "@jupyter-widgets/controls",
            "_view_module_version": "1.5.0",
            "_view_name": "HTMLView",
            "description": "",
            "description_tooltip": null,
            "layout": "IPY_MODEL_0cacb14a92384b01b4efcc8c124ad223",
            "placeholder": "​",
            "style": "IPY_MODEL_7e148eeb4123448e89c6fa65d6e9ee49",
            "value": "Downloading: 100%"
          }
        },
        "0e6c8d7eaac44230adeca4b4fc166548": {
          "model_module": "@jupyter-widgets/controls",
          "model_name": "FloatProgressModel",
          "model_module_version": "1.5.0",
          "state": {
            "_dom_classes": [],
            "_model_module": "@jupyter-widgets/controls",
            "_model_module_version": "1.5.0",
            "_model_name": "FloatProgressModel",
            "_view_count": null,
            "_view_module": "@jupyter-widgets/controls",
            "_view_module_version": "1.5.0",
            "_view_name": "ProgressView",
            "bar_style": "success",
            "description": "",
            "description_tooltip": null,
            "layout": "IPY_MODEL_b65b43efeb6a4f4f8a339450c9148a1a",
            "max": 212420087,
            "min": 0,
            "orientation": "horizontal",
            "style": "IPY_MODEL_bce98d60c9084b3885f7e4101c9f76bf",
            "value": 212420087
          }
        },
        "b2b01424921b4403b08d65a10178dfdc": {
          "model_module": "@jupyter-widgets/controls",
          "model_name": "HTMLModel",
          "model_module_version": "1.5.0",
          "state": {
            "_dom_classes": [],
            "_model_module": "@jupyter-widgets/controls",
            "_model_module_version": "1.5.0",
            "_model_name": "HTMLModel",
            "_view_count": null,
            "_view_module": "@jupyter-widgets/controls",
            "_view_module_version": "1.5.0",
            "_view_name": "HTMLView",
            "description": "",
            "description_tooltip": null,
            "layout": "IPY_MODEL_450ef1a5b4d0464c8e96abfe02c6169c",
            "placeholder": "​",
            "style": "IPY_MODEL_5a934329bbd546c4ad82ecc48a6ef1ee",
            "value": " 212M/212M [00:03&lt;00:00, 61.3MB/s]"
          }
        },
        "984a582fb2b744589bbe19863bf4c073": {
          "model_module": "@jupyter-widgets/base",
          "model_name": "LayoutModel",
          "model_module_version": "1.2.0",
          "state": {
            "_model_module": "@jupyter-widgets/base",
            "_model_module_version": "1.2.0",
            "_model_name": "LayoutModel",
            "_view_count": null,
            "_view_module": "@jupyter-widgets/base",
            "_view_module_version": "1.2.0",
            "_view_name": "LayoutView",
            "align_content": null,
            "align_items": null,
            "align_self": null,
            "border": null,
            "bottom": null,
            "display": null,
            "flex": null,
            "flex_flow": null,
            "grid_area": null,
            "grid_auto_columns": null,
            "grid_auto_flow": null,
            "grid_auto_rows": null,
            "grid_column": null,
            "grid_gap": null,
            "grid_row": null,
            "grid_template_areas": null,
            "grid_template_columns": null,
            "grid_template_rows": null,
            "height": null,
            "justify_content": null,
            "justify_items": null,
            "left": null,
            "margin": null,
            "max_height": null,
            "max_width": null,
            "min_height": null,
            "min_width": null,
            "object_fit": null,
            "object_position": null,
            "order": null,
            "overflow": null,
            "overflow_x": null,
            "overflow_y": null,
            "padding": null,
            "right": null,
            "top": null,
            "visibility": null,
            "width": null
          }
        },
        "0cacb14a92384b01b4efcc8c124ad223": {
          "model_module": "@jupyter-widgets/base",
          "model_name": "LayoutModel",
          "model_module_version": "1.2.0",
          "state": {
            "_model_module": "@jupyter-widgets/base",
            "_model_module_version": "1.2.0",
            "_model_name": "LayoutModel",
            "_view_count": null,
            "_view_module": "@jupyter-widgets/base",
            "_view_module_version": "1.2.0",
            "_view_name": "LayoutView",
            "align_content": null,
            "align_items": null,
            "align_self": null,
            "border": null,
            "bottom": null,
            "display": null,
            "flex": null,
            "flex_flow": null,
            "grid_area": null,
            "grid_auto_columns": null,
            "grid_auto_flow": null,
            "grid_auto_rows": null,
            "grid_column": null,
            "grid_gap": null,
            "grid_row": null,
            "grid_template_areas": null,
            "grid_template_columns": null,
            "grid_template_rows": null,
            "height": null,
            "justify_content": null,
            "justify_items": null,
            "left": null,
            "margin": null,
            "max_height": null,
            "max_width": null,
            "min_height": null,
            "min_width": null,
            "object_fit": null,
            "object_position": null,
            "order": null,
            "overflow": null,
            "overflow_x": null,
            "overflow_y": null,
            "padding": null,
            "right": null,
            "top": null,
            "visibility": null,
            "width": null
          }
        },
        "7e148eeb4123448e89c6fa65d6e9ee49": {
          "model_module": "@jupyter-widgets/controls",
          "model_name": "DescriptionStyleModel",
          "model_module_version": "1.5.0",
          "state": {
            "_model_module": "@jupyter-widgets/controls",
            "_model_module_version": "1.5.0",
            "_model_name": "DescriptionStyleModel",
            "_view_count": null,
            "_view_module": "@jupyter-widgets/base",
            "_view_module_version": "1.2.0",
            "_view_name": "StyleView",
            "description_width": ""
          }
        },
        "b65b43efeb6a4f4f8a339450c9148a1a": {
          "model_module": "@jupyter-widgets/base",
          "model_name": "LayoutModel",
          "model_module_version": "1.2.0",
          "state": {
            "_model_module": "@jupyter-widgets/base",
            "_model_module_version": "1.2.0",
            "_model_name": "LayoutModel",
            "_view_count": null,
            "_view_module": "@jupyter-widgets/base",
            "_view_module_version": "1.2.0",
            "_view_name": "LayoutView",
            "align_content": null,
            "align_items": null,
            "align_self": null,
            "border": null,
            "bottom": null,
            "display": null,
            "flex": null,
            "flex_flow": null,
            "grid_area": null,
            "grid_auto_columns": null,
            "grid_auto_flow": null,
            "grid_auto_rows": null,
            "grid_column": null,
            "grid_gap": null,
            "grid_row": null,
            "grid_template_areas": null,
            "grid_template_columns": null,
            "grid_template_rows": null,
            "height": null,
            "justify_content": null,
            "justify_items": null,
            "left": null,
            "margin": null,
            "max_height": null,
            "max_width": null,
            "min_height": null,
            "min_width": null,
            "object_fit": null,
            "object_position": null,
            "order": null,
            "overflow": null,
            "overflow_x": null,
            "overflow_y": null,
            "padding": null,
            "right": null,
            "top": null,
            "visibility": null,
            "width": null
          }
        },
        "bce98d60c9084b3885f7e4101c9f76bf": {
          "model_module": "@jupyter-widgets/controls",
          "model_name": "ProgressStyleModel",
          "model_module_version": "1.5.0",
          "state": {
            "_model_module": "@jupyter-widgets/controls",
            "_model_module_version": "1.5.0",
            "_model_name": "ProgressStyleModel",
            "_view_count": null,
            "_view_module": "@jupyter-widgets/base",
            "_view_module_version": "1.2.0",
            "_view_name": "StyleView",
            "bar_color": null,
            "description_width": ""
          }
        },
        "450ef1a5b4d0464c8e96abfe02c6169c": {
          "model_module": "@jupyter-widgets/base",
          "model_name": "LayoutModel",
          "model_module_version": "1.2.0",
          "state": {
            "_model_module": "@jupyter-widgets/base",
            "_model_module_version": "1.2.0",
            "_model_name": "LayoutModel",
            "_view_count": null,
            "_view_module": "@jupyter-widgets/base",
            "_view_module_version": "1.2.0",
            "_view_name": "LayoutView",
            "align_content": null,
            "align_items": null,
            "align_self": null,
            "border": null,
            "bottom": null,
            "display": null,
            "flex": null,
            "flex_flow": null,
            "grid_area": null,
            "grid_auto_columns": null,
            "grid_auto_flow": null,
            "grid_auto_rows": null,
            "grid_column": null,
            "grid_gap": null,
            "grid_row": null,
            "grid_template_areas": null,
            "grid_template_columns": null,
            "grid_template_rows": null,
            "height": null,
            "justify_content": null,
            "justify_items": null,
            "left": null,
            "margin": null,
            "max_height": null,
            "max_width": null,
            "min_height": null,
            "min_width": null,
            "object_fit": null,
            "object_position": null,
            "order": null,
            "overflow": null,
            "overflow_x": null,
            "overflow_y": null,
            "padding": null,
            "right": null,
            "top": null,
            "visibility": null,
            "width": null
          }
        },
        "5a934329bbd546c4ad82ecc48a6ef1ee": {
          "model_module": "@jupyter-widgets/controls",
          "model_name": "DescriptionStyleModel",
          "model_module_version": "1.5.0",
          "state": {
            "_model_module": "@jupyter-widgets/controls",
            "_model_module_version": "1.5.0",
            "_model_name": "DescriptionStyleModel",
            "_view_count": null,
            "_view_module": "@jupyter-widgets/base",
            "_view_module_version": "1.2.0",
            "_view_name": "StyleView",
            "description_width": ""
          }
        },
        "18e9eb22c22f44eeb300c113cbd8118b": {
          "model_module": "@jupyter-widgets/controls",
          "model_name": "HBoxModel",
          "model_module_version": "1.5.0",
          "state": {
            "_dom_classes": [],
            "_model_module": "@jupyter-widgets/controls",
            "_model_module_version": "1.5.0",
            "_model_name": "HBoxModel",
            "_view_count": null,
            "_view_module": "@jupyter-widgets/controls",
            "_view_module_version": "1.5.0",
            "_view_name": "HBoxView",
            "box_style": "",
            "children": [
              "IPY_MODEL_ff1293a996cc4ae18dc9a7a414362947",
              "IPY_MODEL_73f9b93b547a49fa9370c9df42382f45",
              "IPY_MODEL_c9f1bb5918794baaa41a563f290519d2"
            ],
            "layout": "IPY_MODEL_e2bc34af69ad44588eb836e9fe144e18"
          }
        },
        "ff1293a996cc4ae18dc9a7a414362947": {
          "model_module": "@jupyter-widgets/controls",
          "model_name": "HTMLModel",
          "model_module_version": "1.5.0",
          "state": {
            "_dom_classes": [],
            "_model_module": "@jupyter-widgets/controls",
            "_model_module_version": "1.5.0",
            "_model_name": "HTMLModel",
            "_view_count": null,
            "_view_module": "@jupyter-widgets/controls",
            "_view_module_version": "1.5.0",
            "_view_name": "HTMLView",
            "description": "",
            "description_tooltip": null,
            "layout": "IPY_MODEL_ba1427d7d55e41f7bc4c077ca57fb2c1",
            "placeholder": "​",
            "style": "IPY_MODEL_54f143d3972b4c219a900d955bd32105",
            "value": "Downloading: 100%"
          }
        },
        "73f9b93b547a49fa9370c9df42382f45": {
          "model_module": "@jupyter-widgets/controls",
          "model_name": "FloatProgressModel",
          "model_module_version": "1.5.0",
          "state": {
            "_dom_classes": [],
            "_model_module": "@jupyter-widgets/controls",
            "_model_module_version": "1.5.0",
            "_model_name": "FloatProgressModel",
            "_view_count": null,
            "_view_module": "@jupyter-widgets/controls",
            "_view_module_version": "1.5.0",
            "_view_name": "ProgressView",
            "bar_style": "success",
            "description": "",
            "description_tooltip": null,
            "layout": "IPY_MODEL_1ab13645c98e42c8b7aa92e978f209c3",
            "max": 253217,
            "min": 0,
            "orientation": "horizontal",
            "style": "IPY_MODEL_28540245f98545d39109ea6ebc65344a",
            "value": 253217
          }
        },
        "c9f1bb5918794baaa41a563f290519d2": {
          "model_module": "@jupyter-widgets/controls",
          "model_name": "HTMLModel",
          "model_module_version": "1.5.0",
          "state": {
            "_dom_classes": [],
            "_model_module": "@jupyter-widgets/controls",
            "_model_module_version": "1.5.0",
            "_model_name": "HTMLModel",
            "_view_count": null,
            "_view_module": "@jupyter-widgets/controls",
            "_view_module_version": "1.5.0",
            "_view_name": "HTMLView",
            "description": "",
            "description_tooltip": null,
            "layout": "IPY_MODEL_9db0538c44be40beb34e5f9bcc0feeec",
            "placeholder": "​",
            "style": "IPY_MODEL_7ac0755fd10b46f7b72ef5bb148d5c70",
            "value": " 253k/253k [00:00&lt;00:00, 2.64MB/s]"
          }
        },
        "e2bc34af69ad44588eb836e9fe144e18": {
          "model_module": "@jupyter-widgets/base",
          "model_name": "LayoutModel",
          "model_module_version": "1.2.0",
          "state": {
            "_model_module": "@jupyter-widgets/base",
            "_model_module_version": "1.2.0",
            "_model_name": "LayoutModel",
            "_view_count": null,
            "_view_module": "@jupyter-widgets/base",
            "_view_module_version": "1.2.0",
            "_view_name": "LayoutView",
            "align_content": null,
            "align_items": null,
            "align_self": null,
            "border": null,
            "bottom": null,
            "display": null,
            "flex": null,
            "flex_flow": null,
            "grid_area": null,
            "grid_auto_columns": null,
            "grid_auto_flow": null,
            "grid_auto_rows": null,
            "grid_column": null,
            "grid_gap": null,
            "grid_row": null,
            "grid_template_areas": null,
            "grid_template_columns": null,
            "grid_template_rows": null,
            "height": null,
            "justify_content": null,
            "justify_items": null,
            "left": null,
            "margin": null,
            "max_height": null,
            "max_width": null,
            "min_height": null,
            "min_width": null,
            "object_fit": null,
            "object_position": null,
            "order": null,
            "overflow": null,
            "overflow_x": null,
            "overflow_y": null,
            "padding": null,
            "right": null,
            "top": null,
            "visibility": null,
            "width": null
          }
        },
        "ba1427d7d55e41f7bc4c077ca57fb2c1": {
          "model_module": "@jupyter-widgets/base",
          "model_name": "LayoutModel",
          "model_module_version": "1.2.0",
          "state": {
            "_model_module": "@jupyter-widgets/base",
            "_model_module_version": "1.2.0",
            "_model_name": "LayoutModel",
            "_view_count": null,
            "_view_module": "@jupyter-widgets/base",
            "_view_module_version": "1.2.0",
            "_view_name": "LayoutView",
            "align_content": null,
            "align_items": null,
            "align_self": null,
            "border": null,
            "bottom": null,
            "display": null,
            "flex": null,
            "flex_flow": null,
            "grid_area": null,
            "grid_auto_columns": null,
            "grid_auto_flow": null,
            "grid_auto_rows": null,
            "grid_column": null,
            "grid_gap": null,
            "grid_row": null,
            "grid_template_areas": null,
            "grid_template_columns": null,
            "grid_template_rows": null,
            "height": null,
            "justify_content": null,
            "justify_items": null,
            "left": null,
            "margin": null,
            "max_height": null,
            "max_width": null,
            "min_height": null,
            "min_width": null,
            "object_fit": null,
            "object_position": null,
            "order": null,
            "overflow": null,
            "overflow_x": null,
            "overflow_y": null,
            "padding": null,
            "right": null,
            "top": null,
            "visibility": null,
            "width": null
          }
        },
        "54f143d3972b4c219a900d955bd32105": {
          "model_module": "@jupyter-widgets/controls",
          "model_name": "DescriptionStyleModel",
          "model_module_version": "1.5.0",
          "state": {
            "_model_module": "@jupyter-widgets/controls",
            "_model_module_version": "1.5.0",
            "_model_name": "DescriptionStyleModel",
            "_view_count": null,
            "_view_module": "@jupyter-widgets/base",
            "_view_module_version": "1.2.0",
            "_view_name": "StyleView",
            "description_width": ""
          }
        },
        "1ab13645c98e42c8b7aa92e978f209c3": {
          "model_module": "@jupyter-widgets/base",
          "model_name": "LayoutModel",
          "model_module_version": "1.2.0",
          "state": {
            "_model_module": "@jupyter-widgets/base",
            "_model_module_version": "1.2.0",
            "_model_name": "LayoutModel",
            "_view_count": null,
            "_view_module": "@jupyter-widgets/base",
            "_view_module_version": "1.2.0",
            "_view_name": "LayoutView",
            "align_content": null,
            "align_items": null,
            "align_self": null,
            "border": null,
            "bottom": null,
            "display": null,
            "flex": null,
            "flex_flow": null,
            "grid_area": null,
            "grid_auto_columns": null,
            "grid_auto_flow": null,
            "grid_auto_rows": null,
            "grid_column": null,
            "grid_gap": null,
            "grid_row": null,
            "grid_template_areas": null,
            "grid_template_columns": null,
            "grid_template_rows": null,
            "height": null,
            "justify_content": null,
            "justify_items": null,
            "left": null,
            "margin": null,
            "max_height": null,
            "max_width": null,
            "min_height": null,
            "min_width": null,
            "object_fit": null,
            "object_position": null,
            "order": null,
            "overflow": null,
            "overflow_x": null,
            "overflow_y": null,
            "padding": null,
            "right": null,
            "top": null,
            "visibility": null,
            "width": null
          }
        },
        "28540245f98545d39109ea6ebc65344a": {
          "model_module": "@jupyter-widgets/controls",
          "model_name": "ProgressStyleModel",
          "model_module_version": "1.5.0",
          "state": {
            "_model_module": "@jupyter-widgets/controls",
            "_model_module_version": "1.5.0",
            "_model_name": "ProgressStyleModel",
            "_view_count": null,
            "_view_module": "@jupyter-widgets/base",
            "_view_module_version": "1.2.0",
            "_view_name": "StyleView",
            "bar_color": null,
            "description_width": ""
          }
        },
        "9db0538c44be40beb34e5f9bcc0feeec": {
          "model_module": "@jupyter-widgets/base",
          "model_name": "LayoutModel",
          "model_module_version": "1.2.0",
          "state": {
            "_model_module": "@jupyter-widgets/base",
            "_model_module_version": "1.2.0",
            "_model_name": "LayoutModel",
            "_view_count": null,
            "_view_module": "@jupyter-widgets/base",
            "_view_module_version": "1.2.0",
            "_view_name": "LayoutView",
            "align_content": null,
            "align_items": null,
            "align_self": null,
            "border": null,
            "bottom": null,
            "display": null,
            "flex": null,
            "flex_flow": null,
            "grid_area": null,
            "grid_auto_columns": null,
            "grid_auto_flow": null,
            "grid_auto_rows": null,
            "grid_column": null,
            "grid_gap": null,
            "grid_row": null,
            "grid_template_areas": null,
            "grid_template_columns": null,
            "grid_template_rows": null,
            "height": null,
            "justify_content": null,
            "justify_items": null,
            "left": null,
            "margin": null,
            "max_height": null,
            "max_width": null,
            "min_height": null,
            "min_width": null,
            "object_fit": null,
            "object_position": null,
            "order": null,
            "overflow": null,
            "overflow_x": null,
            "overflow_y": null,
            "padding": null,
            "right": null,
            "top": null,
            "visibility": null,
            "width": null
          }
        },
        "7ac0755fd10b46f7b72ef5bb148d5c70": {
          "model_module": "@jupyter-widgets/controls",
          "model_name": "DescriptionStyleModel",
          "model_module_version": "1.5.0",
          "state": {
            "_model_module": "@jupyter-widgets/controls",
            "_model_module_version": "1.5.0",
            "_model_name": "DescriptionStyleModel",
            "_view_count": null,
            "_view_module": "@jupyter-widgets/base",
            "_view_module_version": "1.2.0",
            "_view_name": "StyleView",
            "description_width": ""
          }
        },
        "7761fc940d4b44538d8ef9f67d1bcae4": {
          "model_module": "@jupyter-widgets/controls",
          "model_name": "HBoxModel",
          "model_module_version": "1.5.0",
          "state": {
            "_dom_classes": [],
            "_model_module": "@jupyter-widgets/controls",
            "_model_module_version": "1.5.0",
            "_model_name": "HBoxModel",
            "_view_count": null,
            "_view_module": "@jupyter-widgets/controls",
            "_view_module_version": "1.5.0",
            "_view_name": "HBoxView",
            "box_style": "",
            "children": [
              "IPY_MODEL_705c59776d1a447f9c6437dee99ccc79",
              "IPY_MODEL_e65141373059476d9f4a9fd4c316fec6",
              "IPY_MODEL_3f1dd0c805d4407eb90d710de928fe1f"
            ],
            "layout": "IPY_MODEL_5e4361b503a84a05871a48680d82a1d6"
          }
        },
        "705c59776d1a447f9c6437dee99ccc79": {
          "model_module": "@jupyter-widgets/controls",
          "model_name": "HTMLModel",
          "model_module_version": "1.5.0",
          "state": {
            "_dom_classes": [],
            "_model_module": "@jupyter-widgets/controls",
            "_model_module_version": "1.5.0",
            "_model_name": "HTMLModel",
            "_view_count": null,
            "_view_module": "@jupyter-widgets/controls",
            "_view_module_version": "1.5.0",
            "_view_name": "HTMLView",
            "description": "",
            "description_tooltip": null,
            "layout": "IPY_MODEL_f516bfd78b034a35bd8124950dcea116",
            "placeholder": "​",
            "style": "IPY_MODEL_3638d926986b4e45a97d80249b5d0d1b",
            "value": "Downloading: 100%"
          }
        },
        "e65141373059476d9f4a9fd4c316fec6": {
          "model_module": "@jupyter-widgets/controls",
          "model_name": "FloatProgressModel",
          "model_module_version": "1.5.0",
          "state": {
            "_dom_classes": [],
            "_model_module": "@jupyter-widgets/controls",
            "_model_module_version": "1.5.0",
            "_model_name": "FloatProgressModel",
            "_view_count": null,
            "_view_module": "@jupyter-widgets/controls",
            "_view_module_version": "1.5.0",
            "_view_name": "ProgressView",
            "bar_style": "success",
            "description": "",
            "description_tooltip": null,
            "layout": "IPY_MODEL_bcc6c03a6af742b0a18abed4d624acca",
            "max": 104390,
            "min": 0,
            "orientation": "horizontal",
            "style": "IPY_MODEL_4cd2d7f74631402d924fe39fdb9754eb",
            "value": 104390
          }
        },
        "3f1dd0c805d4407eb90d710de928fe1f": {
          "model_module": "@jupyter-widgets/controls",
          "model_name": "HTMLModel",
          "model_module_version": "1.5.0",
          "state": {
            "_dom_classes": [],
            "_model_module": "@jupyter-widgets/controls",
            "_model_module_version": "1.5.0",
            "_model_name": "HTMLModel",
            "_view_count": null,
            "_view_module": "@jupyter-widgets/controls",
            "_view_module_version": "1.5.0",
            "_view_name": "HTMLView",
            "description": "",
            "description_tooltip": null,
            "layout": "IPY_MODEL_e5f5a17e4dec4ed9b3855fb74b6cf604",
            "placeholder": "​",
            "style": "IPY_MODEL_f70ff5f8fb344e4bbb1b246aaec8fa8e",
            "value": " 104k/104k [00:00&lt;00:00, 1.84MB/s]"
          }
        },
        "5e4361b503a84a05871a48680d82a1d6": {
          "model_module": "@jupyter-widgets/base",
          "model_name": "LayoutModel",
          "model_module_version": "1.2.0",
          "state": {
            "_model_module": "@jupyter-widgets/base",
            "_model_module_version": "1.2.0",
            "_model_name": "LayoutModel",
            "_view_count": null,
            "_view_module": "@jupyter-widgets/base",
            "_view_module_version": "1.2.0",
            "_view_name": "LayoutView",
            "align_content": null,
            "align_items": null,
            "align_self": null,
            "border": null,
            "bottom": null,
            "display": null,
            "flex": null,
            "flex_flow": null,
            "grid_area": null,
            "grid_auto_columns": null,
            "grid_auto_flow": null,
            "grid_auto_rows": null,
            "grid_column": null,
            "grid_gap": null,
            "grid_row": null,
            "grid_template_areas": null,
            "grid_template_columns": null,
            "grid_template_rows": null,
            "height": null,
            "justify_content": null,
            "justify_items": null,
            "left": null,
            "margin": null,
            "max_height": null,
            "max_width": null,
            "min_height": null,
            "min_width": null,
            "object_fit": null,
            "object_position": null,
            "order": null,
            "overflow": null,
            "overflow_x": null,
            "overflow_y": null,
            "padding": null,
            "right": null,
            "top": null,
            "visibility": null,
            "width": null
          }
        },
        "f516bfd78b034a35bd8124950dcea116": {
          "model_module": "@jupyter-widgets/base",
          "model_name": "LayoutModel",
          "model_module_version": "1.2.0",
          "state": {
            "_model_module": "@jupyter-widgets/base",
            "_model_module_version": "1.2.0",
            "_model_name": "LayoutModel",
            "_view_count": null,
            "_view_module": "@jupyter-widgets/base",
            "_view_module_version": "1.2.0",
            "_view_name": "LayoutView",
            "align_content": null,
            "align_items": null,
            "align_self": null,
            "border": null,
            "bottom": null,
            "display": null,
            "flex": null,
            "flex_flow": null,
            "grid_area": null,
            "grid_auto_columns": null,
            "grid_auto_flow": null,
            "grid_auto_rows": null,
            "grid_column": null,
            "grid_gap": null,
            "grid_row": null,
            "grid_template_areas": null,
            "grid_template_columns": null,
            "grid_template_rows": null,
            "height": null,
            "justify_content": null,
            "justify_items": null,
            "left": null,
            "margin": null,
            "max_height": null,
            "max_width": null,
            "min_height": null,
            "min_width": null,
            "object_fit": null,
            "object_position": null,
            "order": null,
            "overflow": null,
            "overflow_x": null,
            "overflow_y": null,
            "padding": null,
            "right": null,
            "top": null,
            "visibility": null,
            "width": null
          }
        },
        "3638d926986b4e45a97d80249b5d0d1b": {
          "model_module": "@jupyter-widgets/controls",
          "model_name": "DescriptionStyleModel",
          "model_module_version": "1.5.0",
          "state": {
            "_model_module": "@jupyter-widgets/controls",
            "_model_module_version": "1.5.0",
            "_model_name": "DescriptionStyleModel",
            "_view_count": null,
            "_view_module": "@jupyter-widgets/base",
            "_view_module_version": "1.2.0",
            "_view_name": "StyleView",
            "description_width": ""
          }
        },
        "bcc6c03a6af742b0a18abed4d624acca": {
          "model_module": "@jupyter-widgets/base",
          "model_name": "LayoutModel",
          "model_module_version": "1.2.0",
          "state": {
            "_model_module": "@jupyter-widgets/base",
            "_model_module_version": "1.2.0",
            "_model_name": "LayoutModel",
            "_view_count": null,
            "_view_module": "@jupyter-widgets/base",
            "_view_module_version": "1.2.0",
            "_view_name": "LayoutView",
            "align_content": null,
            "align_items": null,
            "align_self": null,
            "border": null,
            "bottom": null,
            "display": null,
            "flex": null,
            "flex_flow": null,
            "grid_area": null,
            "grid_auto_columns": null,
            "grid_auto_flow": null,
            "grid_auto_rows": null,
            "grid_column": null,
            "grid_gap": null,
            "grid_row": null,
            "grid_template_areas": null,
            "grid_template_columns": null,
            "grid_template_rows": null,
            "height": null,
            "justify_content": null,
            "justify_items": null,
            "left": null,
            "margin": null,
            "max_height": null,
            "max_width": null,
            "min_height": null,
            "min_width": null,
            "object_fit": null,
            "object_position": null,
            "order": null,
            "overflow": null,
            "overflow_x": null,
            "overflow_y": null,
            "padding": null,
            "right": null,
            "top": null,
            "visibility": null,
            "width": null
          }
        },
        "4cd2d7f74631402d924fe39fdb9754eb": {
          "model_module": "@jupyter-widgets/controls",
          "model_name": "ProgressStyleModel",
          "model_module_version": "1.5.0",
          "state": {
            "_model_module": "@jupyter-widgets/controls",
            "_model_module_version": "1.5.0",
            "_model_name": "ProgressStyleModel",
            "_view_count": null,
            "_view_module": "@jupyter-widgets/base",
            "_view_module_version": "1.2.0",
            "_view_name": "StyleView",
            "bar_color": null,
            "description_width": ""
          }
        },
        "e5f5a17e4dec4ed9b3855fb74b6cf604": {
          "model_module": "@jupyter-widgets/base",
          "model_name": "LayoutModel",
          "model_module_version": "1.2.0",
          "state": {
            "_model_module": "@jupyter-widgets/base",
            "_model_module_version": "1.2.0",
            "_model_name": "LayoutModel",
            "_view_count": null,
            "_view_module": "@jupyter-widgets/base",
            "_view_module_version": "1.2.0",
            "_view_name": "LayoutView",
            "align_content": null,
            "align_items": null,
            "align_self": null,
            "border": null,
            "bottom": null,
            "display": null,
            "flex": null,
            "flex_flow": null,
            "grid_area": null,
            "grid_auto_columns": null,
            "grid_auto_flow": null,
            "grid_auto_rows": null,
            "grid_column": null,
            "grid_gap": null,
            "grid_row": null,
            "grid_template_areas": null,
            "grid_template_columns": null,
            "grid_template_rows": null,
            "height": null,
            "justify_content": null,
            "justify_items": null,
            "left": null,
            "margin": null,
            "max_height": null,
            "max_width": null,
            "min_height": null,
            "min_width": null,
            "object_fit": null,
            "object_position": null,
            "order": null,
            "overflow": null,
            "overflow_x": null,
            "overflow_y": null,
            "padding": null,
            "right": null,
            "top": null,
            "visibility": null,
            "width": null
          }
        },
        "f70ff5f8fb344e4bbb1b246aaec8fa8e": {
          "model_module": "@jupyter-widgets/controls",
          "model_name": "DescriptionStyleModel",
          "model_module_version": "1.5.0",
          "state": {
            "_model_module": "@jupyter-widgets/controls",
            "_model_module_version": "1.5.0",
            "_model_name": "DescriptionStyleModel",
            "_view_count": null,
            "_view_module": "@jupyter-widgets/base",
            "_view_module_version": "1.2.0",
            "_view_name": "StyleView",
            "description_width": ""
          }
        }
      }
    }
  },
  "nbformat": 4,
  "nbformat_minor": 0
}